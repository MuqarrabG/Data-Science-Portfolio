{
 "cells": [
  {
   "cell_type": "markdown",
   "id": "e4aef348",
   "metadata": {},
   "source": [
    "## Portfolio Part 3"
   ]
  },
  {
   "cell_type": "markdown",
   "id": "0619c315",
   "metadata": {},
   "source": [
    "In this Portfolio task, you will continue working with the dataset you have used in portfolio 2. But the difference is that the rating column has been changed with like or dislike values. Your task is to train classification models to predict whether a user like or dislike an item.  \n",
    "\n",
    "\n",
    "The header of the csv file is shown below. \n",
    "\n",
    "| userId | timestamp | review | item| rating | helpfulness | gender | category |\n",
    "    | ---- | ---- | ---- | ---- | ---- | ---- | ---- | ---- | \n",
    "    \n",
    "#### Description of Fields\n",
    "\n",
    "* __userId__ - the user's id\n",
    "* __timestamp__ - the timestamp indicating when the user rated the shopping item\n",
    "* __review__ - the user's review comments of the item\n",
    "* __item__ - the name of the item\n",
    "* __rating__ - the user like or dislike the item\n",
    "* __helpfulness__ - average rating from other users on whether the review comment is helpful. 6-helpful, 0-not helpful. \n",
    "* __gender__ - the gender of the user, F- female, M-male\n",
    "* __category__ - the category of the shopping item\n",
    "\n",
    "\n",
    "Your high level goal in this notebook is to try to build and evaluate predictive models for 'rating' from other available features - predict the value of the __rating__ field in the data from some of the other fields. More specifically, you need to complete the following major steps: \n",
    "1) Explore the data. Clean the data if necessary. For example, remove abnormal instanaces and replace missing values.\n",
    "2) Convert object features into digit features by using an encoder\n",
    "3) Study the correlation between these features. \n",
    "4) Split the dataset and train a logistic regression model to predict 'rating' based on other features. Evaluate the accuracy of your model.\n",
    "5) Split the dataset and train a KNN model to predict 'rating' based on other features. You can set K with an ad-hoc manner in this step. Evaluate the accuracy of your model.\n",
    "6) Tune the hyper-parameter K in KNN to see how it influences the prediction performance\n",
    "\n",
    "Note 1: We did not provide any description of each step in the notebook. You should learn how to properly comment your notebook by yourself to make your notebook file readable. \n",
    "\n",
    "Note 2: you are not being evaluated on the ___accuracy___ of the model but on the ___process___ that you use to generate it. Please use both ___Logistic Regression model___ and ___KNN model___ for solving this classification problem. Accordingly, discuss the performance of these two methods."
   ]
  },
  {
   "cell_type": "code",
   "execution_count": 1,
   "id": "47be0d08",
   "metadata": {},
   "outputs": [],
   "source": [
    "import pandas as pd\n",
    "import numpy as np\n",
    "import matplotlib.pyplot as plt\n",
    "import seaborn as sns\n",
    "%matplotlib inline\n",
    "\n",
    "import warnings\n",
    "warnings.filterwarnings('ignore')"
   ]
  },
  {
   "cell_type": "code",
   "execution_count": 2,
   "id": "84c57251",
   "metadata": {},
   "outputs": [
    {
     "data": {
      "text/html": [
       "<div>\n",
       "<style scoped>\n",
       "    .dataframe tbody tr th:only-of-type {\n",
       "        vertical-align: middle;\n",
       "    }\n",
       "\n",
       "    .dataframe tbody tr th {\n",
       "        vertical-align: top;\n",
       "    }\n",
       "\n",
       "    .dataframe thead th {\n",
       "        text-align: right;\n",
       "    }\n",
       "</style>\n",
       "<table border=\"1\" class=\"dataframe\">\n",
       "  <thead>\n",
       "    <tr style=\"text-align: right;\">\n",
       "      <th></th>\n",
       "      <th>userId</th>\n",
       "      <th>timestamp</th>\n",
       "      <th>review</th>\n",
       "      <th>item</th>\n",
       "      <th>rating</th>\n",
       "      <th>helpfulness</th>\n",
       "      <th>gender</th>\n",
       "      <th>category</th>\n",
       "    </tr>\n",
       "  </thead>\n",
       "  <tbody>\n",
       "    <tr>\n",
       "      <th>0</th>\n",
       "      <td>4259</td>\n",
       "      <td>11900</td>\n",
       "      <td>Finally, Something for (Relatively) Nothing</td>\n",
       "      <td>MyPoints.com</td>\n",
       "      <td>like</td>\n",
       "      <td>4</td>\n",
       "      <td>F</td>\n",
       "      <td>Online Stores &amp; Services</td>\n",
       "    </tr>\n",
       "    <tr>\n",
       "      <th>1</th>\n",
       "      <td>4259</td>\n",
       "      <td>12000</td>\n",
       "      <td>Shocking!</td>\n",
       "      <td>Sixth Sense</td>\n",
       "      <td>like</td>\n",
       "      <td>4</td>\n",
       "      <td>F</td>\n",
       "      <td>Movies</td>\n",
       "    </tr>\n",
       "    <tr>\n",
       "      <th>2</th>\n",
       "      <td>4259</td>\n",
       "      <td>12000</td>\n",
       "      <td>Simply Shaggadelic!</td>\n",
       "      <td>Austin Powers: The Spy Who Shagged Me</td>\n",
       "      <td>like</td>\n",
       "      <td>4</td>\n",
       "      <td>F</td>\n",
       "      <td>Movies</td>\n",
       "    </tr>\n",
       "    <tr>\n",
       "      <th>3</th>\n",
       "      <td>4259</td>\n",
       "      <td>12000</td>\n",
       "      <td>Better Than The First!</td>\n",
       "      <td>Toy Story 2</td>\n",
       "      <td>like</td>\n",
       "      <td>3</td>\n",
       "      <td>F</td>\n",
       "      <td>Movies</td>\n",
       "    </tr>\n",
       "    <tr>\n",
       "      <th>4</th>\n",
       "      <td>4259</td>\n",
       "      <td>12000</td>\n",
       "      <td>Blair Witch made me appreciate this</td>\n",
       "      <td>Star Wars Episode I: The Phantom Menace</td>\n",
       "      <td>dislike</td>\n",
       "      <td>4</td>\n",
       "      <td>F</td>\n",
       "      <td>Movies</td>\n",
       "    </tr>\n",
       "    <tr>\n",
       "      <th>5</th>\n",
       "      <td>4259</td>\n",
       "      <td>12100</td>\n",
       "      <td>Come here at least once in your life... stay a...</td>\n",
       "      <td>New York City</td>\n",
       "      <td>like</td>\n",
       "      <td>4</td>\n",
       "      <td>F</td>\n",
       "      <td>Hotels &amp; Travel</td>\n",
       "    </tr>\n",
       "    <tr>\n",
       "      <th>6</th>\n",
       "      <td>4259</td>\n",
       "      <td>12400</td>\n",
       "      <td>I joined for the free camera, and stood for no...</td>\n",
       "      <td>Earthlink</td>\n",
       "      <td>like</td>\n",
       "      <td>3</td>\n",
       "      <td>F</td>\n",
       "      <td>Online Stores &amp; Services</td>\n",
       "    </tr>\n",
       "    <tr>\n",
       "      <th>7</th>\n",
       "      <td>4259</td>\n",
       "      <td>12700</td>\n",
       "      <td>They Should've Fooled the American Public</td>\n",
       "      <td>Blair Witch Project</td>\n",
       "      <td>dislike</td>\n",
       "      <td>4</td>\n",
       "      <td>F</td>\n",
       "      <td>Movies</td>\n",
       "    </tr>\n",
       "    <tr>\n",
       "      <th>8</th>\n",
       "      <td>4259</td>\n",
       "      <td>51600</td>\n",
       "      <td>A Short List of Things to Remember in NYC</td>\n",
       "      <td>New York City</td>\n",
       "      <td>like</td>\n",
       "      <td>4</td>\n",
       "      <td>F</td>\n",
       "      <td>Hotels &amp; Travel</td>\n",
       "    </tr>\n",
       "    <tr>\n",
       "      <th>9</th>\n",
       "      <td>4259</td>\n",
       "      <td>60200</td>\n",
       "      <td>Do you know what a metaphysical can of worms t...</td>\n",
       "      <td>Being John Malkovich</td>\n",
       "      <td>like</td>\n",
       "      <td>4</td>\n",
       "      <td>F</td>\n",
       "      <td>Movies</td>\n",
       "    </tr>\n",
       "  </tbody>\n",
       "</table>\n",
       "</div>"
      ],
      "text/plain": [
       "   userId  timestamp                                             review  \\\n",
       "0    4259      11900        Finally, Something for (Relatively) Nothing   \n",
       "1    4259      12000                                          Shocking!   \n",
       "2    4259      12000                                Simply Shaggadelic!   \n",
       "3    4259      12000                             Better Than The First!   \n",
       "4    4259      12000                Blair Witch made me appreciate this   \n",
       "5    4259      12100  Come here at least once in your life... stay a...   \n",
       "6    4259      12400  I joined for the free camera, and stood for no...   \n",
       "7    4259      12700          They Should've Fooled the American Public   \n",
       "8    4259      51600          A Short List of Things to Remember in NYC   \n",
       "9    4259      60200  Do you know what a metaphysical can of worms t...   \n",
       "\n",
       "                                      item   rating  helpfulness gender  \\\n",
       "0                             MyPoints.com     like            4      F   \n",
       "1                              Sixth Sense     like            4      F   \n",
       "2    Austin Powers: The Spy Who Shagged Me     like            4      F   \n",
       "3                              Toy Story 2     like            3      F   \n",
       "4  Star Wars Episode I: The Phantom Menace  dislike            4      F   \n",
       "5                            New York City     like            4      F   \n",
       "6                                Earthlink     like            3      F   \n",
       "7                      Blair Witch Project  dislike            4      F   \n",
       "8                            New York City     like            4      F   \n",
       "9                     Being John Malkovich     like            4      F   \n",
       "\n",
       "                   category  \n",
       "0  Online Stores & Services  \n",
       "1                    Movies  \n",
       "2                    Movies  \n",
       "3                    Movies  \n",
       "4                    Movies  \n",
       "5           Hotels & Travel  \n",
       "6  Online Stores & Services  \n",
       "7                    Movies  \n",
       "8           Hotels & Travel  \n",
       "9                    Movies  "
      ]
     },
     "execution_count": 2,
     "metadata": {},
     "output_type": "execute_result"
    }
   ],
   "source": [
    "df = pd.read_csv('Portfolio 3.csv')\n",
    "df.head(10)"
   ]
  },
  {
   "cell_type": "code",
   "execution_count": 3,
   "id": "95416744",
   "metadata": {},
   "outputs": [
    {
     "name": "stdout",
     "output_type": "stream",
     "text": [
      "<class 'pandas.core.frame.DataFrame'>\n",
      "RangeIndex: 2899 entries, 0 to 2898\n",
      "Data columns (total 8 columns):\n",
      " #   Column       Non-Null Count  Dtype \n",
      "---  ------       --------------  ----- \n",
      " 0   userId       2899 non-null   int64 \n",
      " 1   timestamp    2899 non-null   int64 \n",
      " 2   review       2899 non-null   object\n",
      " 3   item         2899 non-null   object\n",
      " 4   rating       2899 non-null   object\n",
      " 5   helpfulness  2899 non-null   int64 \n",
      " 6   gender       2899 non-null   object\n",
      " 7   category     2899 non-null   object\n",
      "dtypes: int64(3), object(5)\n",
      "memory usage: 181.3+ KB\n"
     ]
    }
   ],
   "source": [
    "df.info()"
   ]
  },
  {
   "cell_type": "code",
   "execution_count": 4,
   "id": "73589258",
   "metadata": {},
   "outputs": [
    {
     "data": {
      "text/html": [
       "<div>\n",
       "<style scoped>\n",
       "    .dataframe tbody tr th:only-of-type {\n",
       "        vertical-align: middle;\n",
       "    }\n",
       "\n",
       "    .dataframe tbody tr th {\n",
       "        vertical-align: top;\n",
       "    }\n",
       "\n",
       "    .dataframe thead th {\n",
       "        text-align: right;\n",
       "    }\n",
       "</style>\n",
       "<table border=\"1\" class=\"dataframe\">\n",
       "  <thead>\n",
       "    <tr style=\"text-align: right;\">\n",
       "      <th></th>\n",
       "      <th>userId</th>\n",
       "      <th>timestamp</th>\n",
       "      <th>review</th>\n",
       "      <th>item</th>\n",
       "      <th>rating</th>\n",
       "      <th>helpfulness</th>\n",
       "      <th>gender</th>\n",
       "      <th>category</th>\n",
       "    </tr>\n",
       "  </thead>\n",
       "  <tbody>\n",
       "    <tr>\n",
       "      <th>0</th>\n",
       "      <td>4259</td>\n",
       "      <td>11900</td>\n",
       "      <td>856</td>\n",
       "      <td>43</td>\n",
       "      <td>1</td>\n",
       "      <td>4</td>\n",
       "      <td>0</td>\n",
       "      <td>6</td>\n",
       "    </tr>\n",
       "    <tr>\n",
       "      <th>1</th>\n",
       "      <td>4259</td>\n",
       "      <td>12000</td>\n",
       "      <td>1985</td>\n",
       "      <td>62</td>\n",
       "      <td>1</td>\n",
       "      <td>4</td>\n",
       "      <td>0</td>\n",
       "      <td>5</td>\n",
       "    </tr>\n",
       "    <tr>\n",
       "      <th>2</th>\n",
       "      <td>4259</td>\n",
       "      <td>12000</td>\n",
       "      <td>2006</td>\n",
       "      <td>9</td>\n",
       "      <td>1</td>\n",
       "      <td>4</td>\n",
       "      <td>0</td>\n",
       "      <td>5</td>\n",
       "    </tr>\n",
       "    <tr>\n",
       "      <th>3</th>\n",
       "      <td>4259</td>\n",
       "      <td>12000</td>\n",
       "      <td>472</td>\n",
       "      <td>77</td>\n",
       "      <td>1</td>\n",
       "      <td>3</td>\n",
       "      <td>0</td>\n",
       "      <td>5</td>\n",
       "    </tr>\n",
       "    <tr>\n",
       "      <th>4</th>\n",
       "      <td>4259</td>\n",
       "      <td>12000</td>\n",
       "      <td>493</td>\n",
       "      <td>68</td>\n",
       "      <td>0</td>\n",
       "      <td>4</td>\n",
       "      <td>0</td>\n",
       "      <td>5</td>\n",
       "    </tr>\n",
       "    <tr>\n",
       "      <th>5</th>\n",
       "      <td>4259</td>\n",
       "      <td>12100</td>\n",
       "      <td>599</td>\n",
       "      <td>47</td>\n",
       "      <td>1</td>\n",
       "      <td>4</td>\n",
       "      <td>0</td>\n",
       "      <td>2</td>\n",
       "    </tr>\n",
       "    <tr>\n",
       "      <th>6</th>\n",
       "      <td>4259</td>\n",
       "      <td>12400</td>\n",
       "      <td>1232</td>\n",
       "      <td>23</td>\n",
       "      <td>1</td>\n",
       "      <td>3</td>\n",
       "      <td>0</td>\n",
       "      <td>6</td>\n",
       "    </tr>\n",
       "    <tr>\n",
       "      <th>7</th>\n",
       "      <td>4259</td>\n",
       "      <td>12700</td>\n",
       "      <td>2415</td>\n",
       "      <td>12</td>\n",
       "      <td>0</td>\n",
       "      <td>4</td>\n",
       "      <td>0</td>\n",
       "      <td>5</td>\n",
       "    </tr>\n",
       "    <tr>\n",
       "      <th>8</th>\n",
       "      <td>4259</td>\n",
       "      <td>51600</td>\n",
       "      <td>136</td>\n",
       "      <td>47</td>\n",
       "      <td>1</td>\n",
       "      <td>4</td>\n",
       "      <td>0</td>\n",
       "      <td>2</td>\n",
       "    </tr>\n",
       "    <tr>\n",
       "      <th>9</th>\n",
       "      <td>4259</td>\n",
       "      <td>60200</td>\n",
       "      <td>692</td>\n",
       "      <td>11</td>\n",
       "      <td>1</td>\n",
       "      <td>4</td>\n",
       "      <td>0</td>\n",
       "      <td>5</td>\n",
       "    </tr>\n",
       "  </tbody>\n",
       "</table>\n",
       "</div>"
      ],
      "text/plain": [
       "   userId  timestamp  review  item  rating  helpfulness  gender  category\n",
       "0    4259      11900     856    43       1            4       0         6\n",
       "1    4259      12000    1985    62       1            4       0         5\n",
       "2    4259      12000    2006     9       1            4       0         5\n",
       "3    4259      12000     472    77       1            3       0         5\n",
       "4    4259      12000     493    68       0            4       0         5\n",
       "5    4259      12100     599    47       1            4       0         2\n",
       "6    4259      12400    1232    23       1            3       0         6\n",
       "7    4259      12700    2415    12       0            4       0         5\n",
       "8    4259      51600     136    47       1            4       0         2\n",
       "9    4259      60200     692    11       1            4       0         5"
      ]
     },
     "execution_count": 4,
     "metadata": {},
     "output_type": "execute_result"
    }
   ],
   "source": [
    "from sklearn.preprocessing import OrdinalEncoder\n",
    "\n",
    "#conver categorical values into numerical values\n",
    "ord_enc = OrdinalEncoder(dtype=int)\n",
    "df[[\"review\", \"item\", \"rating\", \"gender\", \"category\"]] = ord_enc.fit_transform(df[[\"review\", \"item\", \"rating\", \"gender\", \"category\"]])\n",
    "df.head(10)"
   ]
  },
  {
   "cell_type": "code",
   "execution_count": 5,
   "id": "e4da8e27",
   "metadata": {},
   "outputs": [
    {
     "data": {
      "text/plain": [
       "<AxesSubplot:xlabel='category', ylabel='count'>"
      ]
     },
     "execution_count": 5,
     "metadata": {},
     "output_type": "execute_result"
    },
    {
     "data": {
      "image/png": "[encoded data removed]",
      "text/plain": [
       "<Figure size 432x288 with 1 Axes>"
      ]
     },
     "metadata": {
      "needs_background": "light"
     },
     "output_type": "display_data"
    }
   ],
   "source": [
    "# plot the number of positive and negative feedback\n",
    "sns.countplot(df['category'], label=\"Count\")"
   ]
  },
  {
   "cell_type": "code",
   "execution_count": 6,
   "id": "b9d4ab59",
   "metadata": {},
   "outputs": [
    {
     "data": {
      "text/plain": [
       "<AxesSubplot:xlabel='rating', ylabel='count'>"
      ]
     },
     "execution_count": 6,
     "metadata": {},
     "output_type": "execute_result"
    },
    {
     "data": {
      "image/png": "[encoded data removed]",
      "text/plain": [
       "<Figure size 432x288 with 1 Axes>"
      ]
     },
     "metadata": {
      "needs_background": "light"
     },
     "output_type": "display_data"
    }
   ],
   "source": [
    "sns.countplot(df['rating'], label=\"rating\")"
   ]
  },
  {
   "cell_type": "code",
   "execution_count": 7,
   "id": "10359424",
   "metadata": {},
   "outputs": [
    {
     "data": {
      "text/html": [
       "<div>\n",
       "<style scoped>\n",
       "    .dataframe tbody tr th:only-of-type {\n",
       "        vertical-align: middle;\n",
       "    }\n",
       "\n",
       "    .dataframe tbody tr th {\n",
       "        vertical-align: top;\n",
       "    }\n",
       "\n",
       "    .dataframe thead th {\n",
       "        text-align: right;\n",
       "    }\n",
       "</style>\n",
       "<table border=\"1\" class=\"dataframe\">\n",
       "  <thead>\n",
       "    <tr style=\"text-align: right;\">\n",
       "      <th></th>\n",
       "      <th>userId</th>\n",
       "      <th>timestamp</th>\n",
       "      <th>review</th>\n",
       "      <th>item</th>\n",
       "      <th>rating</th>\n",
       "      <th>helpfulness</th>\n",
       "      <th>gender</th>\n",
       "      <th>category</th>\n",
       "    </tr>\n",
       "  </thead>\n",
       "  <tbody>\n",
       "    <tr>\n",
       "      <th>userId</th>\n",
       "      <td>1.000000</td>\n",
       "      <td>-0.036399</td>\n",
       "      <td>0.013212</td>\n",
       "      <td>-0.002618</td>\n",
       "      <td>0.010844</td>\n",
       "      <td>-0.016841</td>\n",
       "      <td>0.056183</td>\n",
       "      <td>0.015408</td>\n",
       "    </tr>\n",
       "    <tr>\n",
       "      <th>timestamp</th>\n",
       "      <td>-0.036399</td>\n",
       "      <td>1.000000</td>\n",
       "      <td>-0.025036</td>\n",
       "      <td>0.024337</td>\n",
       "      <td>0.011579</td>\n",
       "      <td>0.003638</td>\n",
       "      <td>-0.049244</td>\n",
       "      <td>0.037118</td>\n",
       "    </tr>\n",
       "    <tr>\n",
       "      <th>review</th>\n",
       "      <td>0.013212</td>\n",
       "      <td>-0.025036</td>\n",
       "      <td>1.000000</td>\n",
       "      <td>0.168119</td>\n",
       "      <td>-0.046935</td>\n",
       "      <td>0.016170</td>\n",
       "      <td>-0.014422</td>\n",
       "      <td>0.012047</td>\n",
       "    </tr>\n",
       "    <tr>\n",
       "      <th>item</th>\n",
       "      <td>-0.002618</td>\n",
       "      <td>0.024337</td>\n",
       "      <td>0.168119</td>\n",
       "      <td>1.000000</td>\n",
       "      <td>0.013629</td>\n",
       "      <td>-0.010780</td>\n",
       "      <td>0.006231</td>\n",
       "      <td>-0.054699</td>\n",
       "    </tr>\n",
       "    <tr>\n",
       "      <th>rating</th>\n",
       "      <td>0.010844</td>\n",
       "      <td>0.011579</td>\n",
       "      <td>-0.046935</td>\n",
       "      <td>0.013629</td>\n",
       "      <td>1.000000</td>\n",
       "      <td>-0.016850</td>\n",
       "      <td>0.022576</td>\n",
       "      <td>-0.116312</td>\n",
       "    </tr>\n",
       "    <tr>\n",
       "      <th>helpfulness</th>\n",
       "      <td>-0.016841</td>\n",
       "      <td>0.003638</td>\n",
       "      <td>0.016170</td>\n",
       "      <td>-0.010780</td>\n",
       "      <td>-0.016850</td>\n",
       "      <td>1.000000</td>\n",
       "      <td>-0.046627</td>\n",
       "      <td>-0.000189</td>\n",
       "    </tr>\n",
       "    <tr>\n",
       "      <th>gender</th>\n",
       "      <td>0.056183</td>\n",
       "      <td>-0.049244</td>\n",
       "      <td>-0.014422</td>\n",
       "      <td>0.006231</td>\n",
       "      <td>0.022576</td>\n",
       "      <td>-0.046627</td>\n",
       "      <td>1.000000</td>\n",
       "      <td>-0.017644</td>\n",
       "    </tr>\n",
       "    <tr>\n",
       "      <th>category</th>\n",
       "      <td>0.015408</td>\n",
       "      <td>0.037118</td>\n",
       "      <td>0.012047</td>\n",
       "      <td>-0.054699</td>\n",
       "      <td>-0.116312</td>\n",
       "      <td>-0.000189</td>\n",
       "      <td>-0.017644</td>\n",
       "      <td>1.000000</td>\n",
       "    </tr>\n",
       "  </tbody>\n",
       "</table>\n",
       "</div>"
      ],
      "text/plain": [
       "               userId  timestamp    review      item    rating  helpfulness  \\\n",
       "userId       1.000000  -0.036399  0.013212 -0.002618  0.010844    -0.016841   \n",
       "timestamp   -0.036399   1.000000 -0.025036  0.024337  0.011579     0.003638   \n",
       "review       0.013212  -0.025036  1.000000  0.168119 -0.046935     0.016170   \n",
       "item        -0.002618   0.024337  0.168119  1.000000  0.013629    -0.010780   \n",
       "rating       0.010844   0.011579 -0.046935  0.013629  1.000000    -0.016850   \n",
       "helpfulness -0.016841   0.003638  0.016170 -0.010780 -0.016850     1.000000   \n",
       "gender       0.056183  -0.049244 -0.014422  0.006231  0.022576    -0.046627   \n",
       "category     0.015408   0.037118  0.012047 -0.054699 -0.116312    -0.000189   \n",
       "\n",
       "               gender  category  \n",
       "userId       0.056183  0.015408  \n",
       "timestamp   -0.049244  0.037118  \n",
       "review      -0.014422  0.012047  \n",
       "item         0.006231 -0.054699  \n",
       "rating       0.022576 -0.116312  \n",
       "helpfulness -0.046627 -0.000189  \n",
       "gender       1.000000 -0.017644  \n",
       "category    -0.017644  1.000000  "
      ]
     },
     "execution_count": 7,
     "metadata": {},
     "output_type": "execute_result"
    }
   ],
   "source": [
    "df.corr()"
   ]
  },
  {
   "cell_type": "markdown",
   "id": "f363f9f6",
   "metadata": {},
   "source": [
    "#### Try to train a model with all features\n",
    "\n",
    "- Based on the correlation matrix, it seems that feedback has weak correlation with all the rest features\n",
    "- First try to train a model with all features"
   ]
  },
  {
   "cell_type": "code",
   "execution_count": 8,
   "id": "4a5f4070",
   "metadata": {},
   "outputs": [
    {
     "name": "stdout",
     "output_type": "stream",
     "text": [
      "X_train shape:  (2319, 7)\n",
      "y_train shape:  (2319,)\n",
      "X_test shape:  (580, 7)\n",
      "y_test.shape:  (580,)\n"
     ]
    }
   ],
   "source": [
    "from sklearn.model_selection import train_test_split\n",
    "\n",
    "# split training and test sets\n",
    "X_train, X_test, y_train, y_test = train_test_split(df.drop(['rating'], axis=1), df['rating'], stratify=df['rating'], test_size=.2, random_state=7)\n",
    "\n",
    "# checking shapes of each\n",
    "print(\"X_train shape: \", X_train.shape)\n",
    "print(\"y_train shape: \", y_train.shape)\n",
    "print(\"X_test shape: \", X_test.shape)\n",
    "print(\"y_test.shape: \", y_test.shape)"
   ]
  },
  {
   "cell_type": "code",
   "execution_count": 9,
   "id": "eacaf9b5",
   "metadata": {},
   "outputs": [
    {
     "data": {
      "text/plain": [
       "Index(['userId', 'timestamp', 'review', 'item', 'helpfulness', 'gender',\n",
       "       'category'],\n",
       "      dtype='object')"
      ]
     },
     "execution_count": 9,
     "metadata": {},
     "output_type": "execute_result"
    }
   ],
   "source": [
    "X_train.columns"
   ]
  },
  {
   "cell_type": "code",
   "execution_count": 10,
   "id": "df002114",
   "metadata": {},
   "outputs": [
    {
     "name": "stdout",
     "output_type": "stream",
     "text": [
      "Acc on training set:  0.6369124622682191\n",
      "Acc on test set:  0.6344827586206897\n"
     ]
    }
   ],
   "source": [
    "from sklearn.linear_model import LogisticRegression\n",
    "\n",
    "# training model with all features\n",
    "lr = LogisticRegression().fit(X_train, y_train)\n",
    "\n",
    "# Evaluating trained model on training and test set\n",
    "from sklearn.metrics import accuracy_score\n",
    "\n",
    "# making predictions on training and test set\n",
    "y_pred_train = lr.predict(X_train)\n",
    "y_pred_test = lr.predict(X_test)\n",
    "\n",
    "# calculating accuracy score on training set\n",
    "print(\"Acc on training set: \", accuracy_score(y_train, y_pred_train))\n",
    "\n",
    "# calculating accuracy score on test set\n",
    "print(\"Acc on test set: \", accuracy_score(y_test, y_pred_test))"
   ]
  },
  {
   "cell_type": "markdown",
   "id": "27617cbe",
   "metadata": {},
   "source": [
    "#### Try to tune the model for further improvements\n",
    "\n",
    "- The model performance is poor by using all features, i.e., 63%, which is quite close to random guessing\n",
    "- Try to tune the model b\n",
    "y using RFE to select most important features\n",
    "- Try to train a model with the selected important features"
   ]
  },
  {
   "cell_type": "code",
   "execution_count": 11,
   "id": "8565667a",
   "metadata": {},
   "outputs": [
    {
     "name": "stdout",
     "output_type": "stream",
     "text": [
      "No. of features:  3\n",
      "Selected features:  [False False False False  True  True  True]\n",
      "Features ranking:  [4 5 3 2 1 1 1]\n"
     ]
    }
   ],
   "source": [
    "from sklearn.feature_selection import RFE\n",
    "rfe = RFE(lr, 3)\n",
    "rfe_model = rfe.fit(X_train, y_train)\n",
    "print(\"No. of features: \", rfe_model.n_features_)\n",
    "print(\"Selected features: \", rfe_model.support_)\n",
    "print(\"Features ranking: \", rfe_model.ranking_)"
   ]
  },
  {
   "cell_type": "code",
   "execution_count": 12,
   "id": "55da6348",
   "metadata": {},
   "outputs": [
    {
     "data": {
      "text/plain": [
       "Index(['userId', 'timestamp', 'review', 'item', 'helpfulness', 'gender',\n",
       "       'category'],\n",
       "      dtype='object')"
      ]
     },
     "execution_count": 12,
     "metadata": {},
     "output_type": "execute_result"
    }
   ],
   "source": [
    "X_train.columns"
   ]
  },
  {
   "cell_type": "markdown",
   "id": "184e0b83",
   "metadata": {},
   "source": [
    "#### Try to train a model with most important features\n",
    "\n",
    "- The results from the RFE show that userId, movieId and timestamp is the most important features\n",
    "- Try to re-trian the model with three most important features \n",
    "- You may also try to tune the model by changing the value of C"
   ]
  },
  {
   "cell_type": "code",
   "execution_count": 13,
   "id": "89365c94",
   "metadata": {},
   "outputs": [
    {
     "name": "stdout",
     "output_type": "stream",
     "text": [
      "X_train shape:  (2319, 3)\n",
      "y_train shape:  (2319,)\n",
      "X_test shape:  (580, 3)\n",
      "y_test.shape:  (580,)\n",
      "Acc on training set:  0.6377749029754204\n",
      "Acc on test set:  0.6379310344827587\n"
     ]
    }
   ],
   "source": [
    "from sklearn.model_selection import train_test_split\n",
    "from sklearn.linear_model import LogisticRegression\n",
    "from sklearn.metrics import accuracy_score\n",
    "\n",
    "#X_train, X_test, y_train, y_test = train_test_split(df.drop(['rating', 'age', 'gender', 'genre', 'occupation'], axis=1), df['feedback'], stratify=df['feedback'], test_size=.2, random_state=7)\n",
    "\n",
    "# split training and test sets\n",
    "X_train, X_test, y_train, y_test = train_test_split(df.drop(['userId', 'timestamp', 'review', 'item', 'rating'], axis=1), df['rating'], stratify=df['rating'], test_size=.2, random_state=7)\n",
    "\n",
    "\n",
    "# checking shapes of each\n",
    "print(\"X_train shape: \", X_train.shape)\n",
    "print(\"y_train shape: \", y_train.shape)\n",
    "print(\"X_test shape: \", X_test.shape)\n",
    "print(\"y_test.shape: \", y_test.shape)\n",
    "\n",
    "# training model with the top-3 features\n",
    "lr = LogisticRegression().fit(X_train, y_train)\n",
    "\n",
    "# making predictions on training and test set\n",
    "y_pred_train = lr.predict(X_train)\n",
    "y_pred_test = lr.predict(X_test)\n",
    "\n",
    "# calculating accuracy score on training set\n",
    "print(\"Acc on training set: \", accuracy_score(y_train, y_pred_train))\n",
    "\n",
    "# calculating accuracy score on test set\n",
    "print(\"Acc on test set: \", accuracy_score(y_test, y_pred_test))"
   ]
  },
  {
   "cell_type": "markdown",
   "id": "e9497859",
   "metadata": {},
   "source": [
    "#### Train a more advanced model\n",
    "\n",
    "- Based on the above results, the accuracy achieved by the simple logistic regression is poor\n",
    "- Try to train a more advanced KNN model"
   ]
  },
  {
   "cell_type": "code",
   "execution_count": 14,
   "id": "2f519892",
   "metadata": {},
   "outputs": [],
   "source": [
    "from sklearn.datasets import make_classification\n",
    "from sklearn.neighbors import KNeighborsClassifier\n",
    "from sklearn.metrics import accuracy_score"
   ]
  },
  {
   "cell_type": "code",
   "execution_count": 15,
   "id": "171e7485",
   "metadata": {},
   "outputs": [],
   "source": [
    "# split training and test sets\n",
    "X_train, X_test, y_train, y_test = train_test_split(df.drop(['rating'], axis=1), df['rating'], stratify=df['rating'], test_size=.2, random_state=7)"
   ]
  },
  {
   "cell_type": "code",
   "execution_count": 16,
   "id": "d36b5cbc",
   "metadata": {},
   "outputs": [
    {
     "name": "stdout",
     "output_type": "stream",
     "text": [
      "Testing accuracy is:  0.5844827586206897\n"
     ]
    }
   ],
   "source": [
    "# Create and training a KNN classifier model\n",
    "clf = KNeighborsClassifier(n_neighbors = 7)\n",
    "clf.fit(X_train, y_train)\n",
    "\n",
    "# Use the model to predict testing data\n",
    "y_pred = clf.predict(X_test)\n",
    "accuracy = accuracy_score(y_pred, y_test)\n",
    "print('Testing accuracy is: ', accuracy)"
   ]
  },
  {
   "cell_type": "markdown",
   "id": "4c269013",
   "metadata": {},
   "source": [
    "#### Automatic model hyperparameter (algorithm parameter) tuning\n",
    "\n",
    "- The accuracy achieved by KNN is around 65%, which far exceeds that achieved by simple logistic regression, which demonstrate the superiority of the more advanced method on the classification problem\n",
    "- Try to tune the model to see whether we can get more accurate results"
   ]
  },
  {
   "cell_type": "code",
   "execution_count": 17,
   "id": "b7bf9395",
   "metadata": {},
   "outputs": [
    {
     "name": "stdout",
     "output_type": "stream",
     "text": [
      "Best K value:  48\n",
      "The accuracy:  0.6357358108510511\n"
     ]
    }
   ],
   "source": [
    "from sklearn.model_selection import GridSearchCV\n",
    "\n",
    "# Define search space for parameters\n",
    "parameter_grid = {'n_neighbors': range(5, 80)}\n",
    "\n",
    "X = df.drop(['rating'], axis=1)\n",
    "y = df['rating']\n",
    "\n",
    "# Create the machine learning model\n",
    "knn_clf = KNeighborsClassifier()\n",
    "clf = GridSearchCV(knn_clf, parameter_grid, scoring='accuracy', cv=5)\n",
    "clf.fit(X, y)\n",
    "\n",
    "# Identify the best parameter(s)\n",
    "print('Best K value: ', clf.best_params_['n_neighbors'])\n",
    "print('The accuracy: ', clf.best_score_)"
   ]
  },
  {
   "cell_type": "code",
   "execution_count": null,
   "id": "f183a13f",
   "metadata": {},
   "outputs": [],
   "source": []
  }
 ],
 "metadata": {
  "kernelspec": {
   "display_name": "Python 3.10.0 64-bit",
   "language": "python",
   "name": "python3"
  },
  "language_info": {
   "codemirror_mode": {
    "name": "ipython",
    "version": 3
   },
   "file_extension": ".py",
   "mimetype": "text/x-python",
   "name": "python",
   "nbconvert_exporter": "python",
   "pygments_lexer": "ipython3",
   "version": "3.10.0"
  },
  "vscode": {
   "interpreter": {
    "hash": "6abeba5a15863977fe2fb43f00343d61e770fbc5ab3e0c7d2b0d52a3bba95e62"
   }
  }
 },
 "nbformat": 4,
 "nbformat_minor": 5
}
