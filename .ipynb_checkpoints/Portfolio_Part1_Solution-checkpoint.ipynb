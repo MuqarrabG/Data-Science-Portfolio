{
 "cells": [
  {
   "cell_type": "markdown",
   "id": "0e870d7c",
   "metadata": {},
   "source": [
    "### Analysis of Epinions Data\n",
    "\n",
    "We are provided with the Epinions data collected through a general consumer review site Epinions.com. Eeach user on the site can post a review for any product and other users would rate the review with trust or distrust.\n",
    "In this data, for each user, we have his profile, his ID, gender, ratings (1-5) and reviews towards the product they bought. For each rating, we have the product name and its category, the rating score, the time point when the rating is created, and the helpfulness (1-5) of this rating.\n",
    "\n",
    "Originally, there are several separate files to record the user-item rating info, user demographic info and item descriptive info, we have conducted preliminary processing to map and merge the data into one csv file named 'Epinions_test_dataset.csv'. The header of the csv file is shown below. \n",
    "\n",
    "| userId | gender | rating | review| item | category | helpfulness | timestamp |\n",
    "    | ---- | ---- | ---- | ---- | ---- | ---- | ---- | ---- | \n",
    "    \n",
    "#### Description of Fields\n",
    "\n",
    "* __userId__ - the user's id\n",
    "* __gender__ - the user's gender\n",
    "* __rating__ - the user's rating towards the item\n",
    "* __review__ - the user's review towards the item\n",
    "* __item__ - the item's name\n",
    "* __category__ - the category of the item\n",
    "* __helpfulness__ - the helpfulness of this rating\n",
    "* __timestamp__ - the timestamp when the rating is created\n",
    "\n",
    "Note that, a same user (i.e., a same userId) corresponds to a same gender; a same movie corresponds to a same category; a same user (i.e., a same userId) may rate multiple items and a same item may receive ratings and reviews from multiple users.\n",
    "\n",
    "There are four questions to explore with the data as shown below."
   ]
  },
  {
   "cell_type": "markdown",
   "id": "18d84ba0",
   "metadata": {},
   "source": [
    " #### Q1. Remove missing data\n",
    " \n",
    "Please remove the following records in the csv file: \n",
    " \n",
    " * gender/rating/helpfulness is missing\n",
    " * review is 'none'\n",
    "\n",
    "__Display the DataFrame, counting number of Null values in each column, and print the length of the data__ before and after removing the missing data.  "
   ]
  },
  {
   "cell_type": "code",
   "execution_count": 1,
   "id": "ff267de3",
   "metadata": {},
   "outputs": [],
   "source": [
    "import pandas as pd\n",
    "import matplotlib.pyplot as plt\n",
    "%matplotlib inline"
   ]
  },
  {
   "cell_type": "code",
   "execution_count": 2,
   "id": "5c03e338",
   "metadata": {},
   "outputs": [],
   "source": [
    "origin_df = pd.read_csv('Epinions_test_data.csv')"
   ]
  },
  {
   "cell_type": "code",
   "execution_count": 3,
   "id": "8bff4a4e",
   "metadata": {},
   "outputs": [
    {
     "name": "stdout",
     "output_type": "stream",
     "text": [
      "<class 'pandas.core.frame.DataFrame'>\n",
      "RangeIndex: 10000 entries, 0 to 9999\n",
      "Data columns (total 8 columns):\n",
      " #   Column       Non-Null Count  Dtype  \n",
      "---  ------       --------------  -----  \n",
      " 0   userId       10000 non-null  int64  \n",
      " 1   gender       9973 non-null   object \n",
      " 2   item         10000 non-null  object \n",
      " 3   rating       9969 non-null   float64\n",
      " 4   review       10000 non-null  object \n",
      " 5   helpfulness  9974 non-null   float64\n",
      " 6   timestamp    10000 non-null  int64  \n",
      " 7   category     10000 non-null  object \n",
      "dtypes: float64(2), int64(2), object(4)\n",
      "memory usage: 625.1+ KB\n"
     ]
    },
    {
     "data": {
      "text/plain": [
       "userId          0\n",
       "gender         27\n",
       "item            0\n",
       "rating         31\n",
       "review          0\n",
       "helpfulness    26\n",
       "timestamp       0\n",
       "category        0\n",
       "dtype: int64"
      ]
     },
     "execution_count": 3,
     "metadata": {},
     "output_type": "execute_result"
    }
   ],
   "source": [
    "origin_df.info()\n",
    "origin_df.isnull().sum()"
   ]
  },
  {
   "cell_type": "code",
   "execution_count": 4,
   "id": "888425e9",
   "metadata": {},
   "outputs": [
    {
     "data": {
      "text/html": [
       "<div>\n",
       "<style scoped>\n",
       "    .dataframe tbody tr th:only-of-type {\n",
       "        vertical-align: middle;\n",
       "    }\n",
       "\n",
       "    .dataframe tbody tr th {\n",
       "        vertical-align: top;\n",
       "    }\n",
       "\n",
       "    .dataframe thead th {\n",
       "        text-align: right;\n",
       "    }\n",
       "</style>\n",
       "<table border=\"1\" class=\"dataframe\">\n",
       "  <thead>\n",
       "    <tr style=\"text-align: right;\">\n",
       "      <th></th>\n",
       "      <th>userId</th>\n",
       "      <th>gender</th>\n",
       "      <th>item</th>\n",
       "      <th>rating</th>\n",
       "      <th>review</th>\n",
       "      <th>helpfulness</th>\n",
       "      <th>timestamp</th>\n",
       "      <th>category</th>\n",
       "    </tr>\n",
       "  </thead>\n",
       "  <tbody>\n",
       "    <tr>\n",
       "      <th>0</th>\n",
       "      <td>1324</td>\n",
       "      <td>F</td>\n",
       "      <td>NBC</td>\n",
       "      <td>5.0</td>\n",
       "      <td>They made it after all....</td>\n",
       "      <td>4.0</td>\n",
       "      <td>21400</td>\n",
       "      <td>Media</td>\n",
       "    </tr>\n",
       "    <tr>\n",
       "      <th>1</th>\n",
       "      <td>10222</td>\n",
       "      <td>M</td>\n",
       "      <td>NetFlix</td>\n",
       "      <td>2.0</td>\n",
       "      <td>Don't Bother Unless you live in a remote area</td>\n",
       "      <td>2.0</td>\n",
       "      <td>41604</td>\n",
       "      <td>Online Stores &amp; Services</td>\n",
       "    </tr>\n",
       "    <tr>\n",
       "      <th>2</th>\n",
       "      <td>2777</td>\n",
       "      <td>M</td>\n",
       "      <td>Toy Story 2</td>\n",
       "      <td>4.0</td>\n",
       "      <td>Good for adults and children</td>\n",
       "      <td>4.0</td>\n",
       "      <td>10200</td>\n",
       "      <td>Movies</td>\n",
       "    </tr>\n",
       "    <tr>\n",
       "      <th>3</th>\n",
       "      <td>11763</td>\n",
       "      <td>M</td>\n",
       "      <td>Fight Club</td>\n",
       "      <td>5.0</td>\n",
       "      <td>I wish I wasn't hesitant about this movie</td>\n",
       "      <td>4.0</td>\n",
       "      <td>70100</td>\n",
       "      <td>Movies</td>\n",
       "    </tr>\n",
       "    <tr>\n",
       "      <th>4</th>\n",
       "      <td>6003</td>\n",
       "      <td>M</td>\n",
       "      <td>Quicken Loans</td>\n",
       "      <td>5.0</td>\n",
       "      <td>Used Quicken Loans to save time and money on r...</td>\n",
       "      <td>5.0</td>\n",
       "      <td>72103</td>\n",
       "      <td>Personal Finance</td>\n",
       "    </tr>\n",
       "  </tbody>\n",
       "</table>\n",
       "</div>"
      ],
      "text/plain": [
       "   userId gender           item  rating  \\\n",
       "0    1324      F            NBC     5.0   \n",
       "1   10222      M        NetFlix     2.0   \n",
       "2    2777      M    Toy Story 2     4.0   \n",
       "3   11763      M     Fight Club     5.0   \n",
       "4    6003      M  Quicken Loans     5.0   \n",
       "\n",
       "                                              review  helpfulness  timestamp  \\\n",
       "0                         They made it after all....          4.0      21400   \n",
       "1      Don't Bother Unless you live in a remote area          2.0      41604   \n",
       "2                       Good for adults and children          4.0      10200   \n",
       "3          I wish I wasn't hesitant about this movie          4.0      70100   \n",
       "4  Used Quicken Loans to save time and money on r...          5.0      72103   \n",
       "\n",
       "                   category  \n",
       "0                     Media  \n",
       "1  Online Stores & Services  \n",
       "2                    Movies  \n",
       "3                    Movies  \n",
       "4          Personal Finance  "
      ]
     },
     "execution_count": 4,
     "metadata": {},
     "output_type": "execute_result"
    }
   ],
   "source": [
    "origin_df.head()"
   ]
  },
  {
   "cell_type": "code",
   "execution_count": 5,
   "id": "0544dad1",
   "metadata": {},
   "outputs": [
    {
     "name": "stdout",
     "output_type": "stream",
     "text": [
      "the length before removing missing data is  10000\n"
     ]
    }
   ],
   "source": [
    "print('the length before removing missing data is ', len(origin_df))"
   ]
  },
  {
   "cell_type": "code",
   "execution_count": 6,
   "id": "01aae9d9",
   "metadata": {},
   "outputs": [
    {
     "name": "stdout",
     "output_type": "stream",
     "text": [
      "27\n",
      "the length after removing none data is  9973\n",
      "the length after removing missing data is  9890\n"
     ]
    }
   ],
   "source": [
    "\n",
    "#1st method\n",
    "#clean_df_occ = origin_df.drop(origin_df.index[(origin_df['review'] == 'none')])\n",
    "#print('the length after removing none data is ', len(clean_df_occ))\n",
    "#clean_df=clean_df_occ.dropna()\n",
    "#print('the length after removing missing data is ', len(clean_df))\n",
    "\n",
    "#2nd method\n",
    "clean_df_occ = origin_df\n",
    "count=0\n",
    "for index, row in origin_df.iterrows():\n",
    "    if row ['review'] == 'none':\n",
    "        clean_df_occ = clean_df_occ.drop([index])\n",
    "        count+=1\n",
    "print(count) \n",
    "\n",
    "clean_df=clean_df_occ.dropna()\n",
    "print('the length after removing none data is ', len(clean_df_occ))\n",
    "print('the length after removing missing data is ', len(clean_df))\n",
    "\n"
   ]
  },
  {
   "cell_type": "markdown",
   "id": "cc21fb82",
   "metadata": {},
   "source": [
    "#### Q2. Descriptive statistics\n",
    "\n",
    "With the cleaned data in Q1, please provide the data summarization as below:\n",
    "\n",
    "* Q2.1 total number of unique users, unique reviews, unique items, and unique categories\n",
    "* Q2.2 descriptive statistics, e.g., the total number, mean, std, min and max regarding all rating records\n",
    "* Q2.3 descriptive statistics, e.g., mean, std, max, and min of the number of items rated by different genders \n",
    "* Q2.4 descriptive statistics, e.g., mean, std, max, min of the number of ratings that received by each items \n"
   ]
  },
  {
   "cell_type": "code",
   "execution_count": 7,
   "id": "6e463a3d",
   "metadata": {},
   "outputs": [
    {
     "name": "stdout",
     "output_type": "stream",
     "text": [
      "the number of unique users is  4326\n",
      "the number of unique review is  9727\n",
      "the number of unique item is  89\n",
      "the number of unique category is  9\n"
     ]
    }
   ],
   "source": [
    "# Q2.1\n",
    "user_array = clean_df['userId'].unique()\n",
    "print('the number of unique users is ', user_array.size)\n",
    "\n",
    "occupation_array = clean_df['review'].unique()\n",
    "print('the number of unique review is ',occupation_array.size)\n",
    "\n",
    "movie_array = clean_df['item'].unique()\n",
    "print('the number of unique item is ', movie_array.size)\n",
    "\n",
    "genre_array = clean_df['category'].unique()\n",
    "print('the number of unique category is ', genre_array.size)\n",
    "\n",
    "#alternative solution: remove duplicates for users and items;"
   ]
  },
  {
   "cell_type": "code",
   "execution_count": 8,
   "id": "f562eb8d",
   "metadata": {},
   "outputs": [
    {
     "data": {
      "text/plain": [
       "count    9890.000000\n",
       "mean        3.701517\n",
       "std         1.387026\n",
       "min         1.000000\n",
       "25%         3.000000\n",
       "50%         4.000000\n",
       "75%         5.000000\n",
       "max         5.000000\n",
       "Name: rating, dtype: float64"
      ]
     },
     "execution_count": 8,
     "metadata": {},
     "output_type": "execute_result"
    }
   ],
   "source": [
    "# Q2.2\n",
    "clean_df['rating'].describe()"
   ]
  },
  {
   "cell_type": "code",
   "execution_count": 9,
   "id": "879f88ed",
   "metadata": {},
   "outputs": [
    {
     "data": {
      "text/html": [
       "<div>\n",
       "<style scoped>\n",
       "    .dataframe tbody tr th:only-of-type {\n",
       "        vertical-align: middle;\n",
       "    }\n",
       "\n",
       "    .dataframe tbody tr th {\n",
       "        vertical-align: top;\n",
       "    }\n",
       "\n",
       "    .dataframe thead th {\n",
       "        text-align: right;\n",
       "    }\n",
       "</style>\n",
       "<table border=\"1\" class=\"dataframe\">\n",
       "  <thead>\n",
       "    <tr style=\"text-align: right;\">\n",
       "      <th></th>\n",
       "      <th>gender</th>\n",
       "      <th>count</th>\n",
       "    </tr>\n",
       "  </thead>\n",
       "  <tbody>\n",
       "    <tr>\n",
       "      <th>0</th>\n",
       "      <td>F</td>\n",
       "      <td>5025</td>\n",
       "    </tr>\n",
       "    <tr>\n",
       "      <th>1</th>\n",
       "      <td>M</td>\n",
       "      <td>4865</td>\n",
       "    </tr>\n",
       "  </tbody>\n",
       "</table>\n",
       "</div>"
      ],
      "text/plain": [
       "  gender  count\n",
       "0      F   5025\n",
       "1      M   4865"
      ]
     },
     "execution_count": 9,
     "metadata": {},
     "output_type": "execute_result"
    }
   ],
   "source": [
    "# Q2.3 group users by their genders and then count the number of items rated by each gender\n",
    "gender_item_num = clean_df.groupby(['gender'])['item'].count().reset_index(name='count')\n",
    "gender_item_num.head()"
   ]
  },
  {
   "cell_type": "code",
   "execution_count": 10,
   "id": "bc2aadff",
   "metadata": {},
   "outputs": [
    {
     "data": {
      "text/plain": [
       "count       2.000000\n",
       "mean     4945.000000\n",
       "std       113.137085\n",
       "min      4865.000000\n",
       "25%      4905.000000\n",
       "50%      4945.000000\n",
       "75%      4985.000000\n",
       "max      5025.000000\n",
       "Name: count, dtype: float64"
      ]
     },
     "execution_count": 10,
     "metadata": {},
     "output_type": "execute_result"
    }
   ],
   "source": [
    "gender_item_num['count'].describe()"
   ]
  },
  {
   "cell_type": "code",
   "execution_count": 11,
   "id": "09debbf3",
   "metadata": {},
   "outputs": [
    {
     "data": {
      "text/html": [
       "<div>\n",
       "<style scoped>\n",
       "    .dataframe tbody tr th:only-of-type {\n",
       "        vertical-align: middle;\n",
       "    }\n",
       "\n",
       "    .dataframe tbody tr th {\n",
       "        vertical-align: top;\n",
       "    }\n",
       "\n",
       "    .dataframe thead th {\n",
       "        text-align: right;\n",
       "    }\n",
       "</style>\n",
       "<table border=\"1\" class=\"dataframe\">\n",
       "  <thead>\n",
       "    <tr style=\"text-align: right;\">\n",
       "      <th></th>\n",
       "      <th>item</th>\n",
       "      <th>count</th>\n",
       "    </tr>\n",
       "  </thead>\n",
       "  <tbody>\n",
       "    <tr>\n",
       "      <th>0</th>\n",
       "      <td>AOL (America Online)</td>\n",
       "      <td>446</td>\n",
       "    </tr>\n",
       "    <tr>\n",
       "      <th>1</th>\n",
       "      <td>All Advantage</td>\n",
       "      <td>306</td>\n",
       "    </tr>\n",
       "    <tr>\n",
       "      <th>2</th>\n",
       "      <td>Alta Vista (by 1stUp)</td>\n",
       "      <td>84</td>\n",
       "    </tr>\n",
       "    <tr>\n",
       "      <th>3</th>\n",
       "      <td>Amazon.com</td>\n",
       "      <td>110</td>\n",
       "    </tr>\n",
       "    <tr>\n",
       "      <th>4</th>\n",
       "      <td>American Airlines</td>\n",
       "      <td>92</td>\n",
       "    </tr>\n",
       "  </tbody>\n",
       "</table>\n",
       "</div>"
      ],
      "text/plain": [
       "                    item  count\n",
       "0   AOL (America Online)    446\n",
       "1          All Advantage    306\n",
       "2  Alta Vista (by 1stUp)     84\n",
       "3             Amazon.com    110\n",
       "4      American Airlines     92"
      ]
     },
     "execution_count": 11,
     "metadata": {},
     "output_type": "execute_result"
    }
   ],
   "source": [
    "# Q2.4 group items by their names and then count the number of users rated the item\n",
    "rated_item_num = clean_df.groupby(['item'])['rating'].count().reset_index(name='count')\n",
    "rated_item_num.head()"
   ]
  },
  {
   "cell_type": "code",
   "execution_count": 12,
   "id": "a002986f",
   "metadata": {},
   "outputs": [
    {
     "data": {
      "text/plain": [
       "count     89.000000\n",
       "mean     111.123596\n",
       "std       55.955709\n",
       "min       60.000000\n",
       "25%       82.000000\n",
       "50%       92.000000\n",
       "75%      121.000000\n",
       "max      446.000000\n",
       "Name: count, dtype: float64"
      ]
     },
     "execution_count": 12,
     "metadata": {},
     "output_type": "execute_result"
    }
   ],
   "source": [
    "rated_item_num['count'].describe()"
   ]
  },
  {
   "cell_type": "markdown",
   "id": "8658593a",
   "metadata": {},
   "source": [
    "#### Q3. Plotting and Analysis\n",
    "\n",
    "Please try to explore the correlation between gender/helpfulness/category and ratings; for instance, do female/male users tend to provide higher ratings than male/female users? Hint: you may use the boxplot function to plot figures for comparison (___Challenge___)\n",
    "    \n",
    "You may need to select the most suitable graphic forms for ease of presentation. Most importantly, for each figure or subfigure, please summarise ___what each plot shows___ (i.e. observations and explanations). Finally, you may need to provide an overall summary of the data."
   ]
  },
  {
   "cell_type": "code",
   "execution_count": 13,
   "id": "8678abb8",
   "metadata": {
    "scrolled": true
   },
   "outputs": [
    {
     "data": {
      "text/plain": [
       "(array([1, 2]), <a list of 2 Text major ticklabel objects>)"
      ]
     },
     "execution_count": 13,
     "metadata": {},
     "output_type": "execute_result"
    },
    {
     "data": {
      "image/png": "[encoded data removed]",
      "text/plain": [
       "<Figure size 432x288 with 1 Axes>"
      ]
     },
     "metadata": {
      "needs_background": "light"
     },
     "output_type": "display_data"
    }
   ],
   "source": [
    "# gender-rating correlation\n",
    "clean_df.boxplot(\"rating\", by=\"gender\")\n",
    "plt.xticks(rotation=90)"
   ]
  },
  {
   "cell_type": "markdown",
   "id": "74ad1560",
   "metadata": {},
   "source": [
    "### Analysis and Observation\n",
    "\n",
    "_Below only shows several possible observations as examples. You may have more different ones._ \n",
    "\n",
    "- The rating distribution regarding female and male users are quite similar\n",
    "- The gender info does not affect the ratings too much \n"
   ]
  },
  {
   "cell_type": "code",
   "execution_count": 14,
   "id": "c5020dd0",
   "metadata": {},
   "outputs": [
    {
     "data": {
      "text/plain": [
       "(array([1, 2, 3, 4, 5, 6]), <a list of 6 Text major ticklabel objects>)"
      ]
     },
     "execution_count": 14,
     "metadata": {},
     "output_type": "execute_result"
    },
    {
     "data": {
      "image/png": "[encoded data removed]",
      "text/plain": [
       "<Figure size 432x288 with 1 Axes>"
      ]
     },
     "metadata": {
      "needs_background": "light"
     },
     "output_type": "display_data"
    }
   ],
   "source": [
    "# helpfulness-rating correlation\n",
    "clean_df.boxplot(\"rating\", by=\"helpfulness\")\n",
    "plt.xticks(rotation=90)"
   ]
  },
  {
   "cell_type": "markdown",
   "id": "a0634a6a",
   "metadata": {},
   "source": [
    "### Analysis and Observation\n",
    "\n",
    "_Below only shows several possible observations as examples. You may have more different ones._ \n",
    "\n",
    "- Overall, the rating distribution regarding majority helpfulness is different\n",
    "- The helpfulness which is ranked 4 or 5 tends to provide higher ratings than those with other values\n",
    "- The helpfulness with the value of 1 or 2 is more likely to provide lower ratings\n",
    "- The helpfulness with the value of 2 possesses larger variance w.r.t. ratings, and its min rating is 1, which is different from the helpfulness with other values (smaller variance) \n",
    "- The impact of helpfulness on ratings is larger than gender."
   ]
  },
  {
   "cell_type": "code",
   "execution_count": 15,
   "id": "12c50dae",
   "metadata": {},
   "outputs": [
    {
     "data": {
      "text/plain": [
       "(array([1, 2, 3, 4, 5, 6, 7, 8, 9]),\n",
       " <a list of 9 Text major ticklabel objects>)"
      ]
     },
     "execution_count": 15,
     "metadata": {},
     "output_type": "execute_result"
    },
    {
     "data": {
      "image/png": "[encoded data removed]",
      "text/plain": [
       "<Figure size 432x288 with 1 Axes>"
      ]
     },
     "metadata": {
      "needs_background": "light"
     },
     "output_type": "display_data"
    }
   ],
   "source": [
    "# category-rating correlation\n",
    "clean_df.boxplot(\"rating\", by=\"category\")\n",
    "plt.xticks(rotation=90)"
   ]
  },
  {
   "cell_type": "markdown",
   "id": "86aa9d08",
   "metadata": {},
   "source": [
    "### Analysis and Observation\n",
    "\n",
    "_Below only shows several possible observations as examples. You may have more different ones._ \n",
    "\n",
    "- Overall, the rating distribution regarding the majority category is quite similar\n",
    "- Items with category Media tend to receive lower ratings than those with other categories\n",
    "- Items with category Game possess smaller variance w.r.t. ratings, and their min ratings are 4, which is different from items with other categories (larger variance and min ratings lower than 4) \n",
    "- The impact of the category is also larger than that of genders on ratings. However, the impact is quite limited. "
   ]
  },
  {
   "cell_type": "markdown",
   "id": "a7d64f6e",
   "metadata": {},
   "source": [
    "### Summary of the Data\n",
    "\n",
    "_Below only shows possible data summary as examples. You may have more different ones._\n",
    "\n",
    "- The dataset contains 4326 unique users' rating towards 89 unique items, where the ratings range from 1 to 5 scaled by 1; and the mean rating is around 3.7; and more than 50% of records have ratings no less than 4;\n",
    "- Users in the dataset come from 2 different genders; and each gender has rated 4945 items averagely;\n",
    "- Items in the dataset belong to 9 different categories; and each category has received 111 ratings averagely;\n",
    "- The features, i.e., gender and category are less correlated with ratings; where gender holds the worst case; this indicates it is not easy to infer rating with these features.\n",
    "- The dataset contains a small number of missing values, around 110 records;\n",
    "\n"
   ]
  },
  {
   "cell_type": "markdown",
   "id": "bebe7a63",
   "metadata": {},
   "source": [
    "#### Q4. Detect and remove outliers\n",
    "\n",
    "We may define outlier users, reviews and items with three rules:\n",
    "\n",
    "* reviews of which the helpfulness is no more than 2\n",
    "* users who rate less than 7 items\n",
    "* items that receives less than 11 ratings \n",
    " \n",
    "Please remove the corresponding records in the csv file that involves outlier users, reviews and items. After that, __print the length of the data__."
   ]
  },
  {
   "cell_type": "code",
   "execution_count": 25,
   "id": "ee651de5",
   "metadata": {},
   "outputs": [
    {
     "name": "stdout",
     "output_type": "stream",
     "text": [
      "the length of data after removing outlier helpfulness  7562\n"
     ]
    }
   ],
   "source": [
    "# the reviews of which the helpfulness is no more than 2\n",
    "remove_outlier_df = clean_df.drop(clean_df.index[(clean_df['helpfulness'] <= 2)])\n",
    "print('the length of data after removing outlier helpfulness ', len(remove_outlier_df))"
   ]
  },
  {
   "cell_type": "code",
   "execution_count": 26,
   "id": "478b55a0",
   "metadata": {},
   "outputs": [
    {
     "name": "stdout",
     "output_type": "stream",
     "text": [
      "the number of user after removing outlier helpfulness 3667\n"
     ]
    }
   ],
   "source": [
    "# group users by their ids and count the number of their ratings \n",
    "group_user_df = remove_outlier_df.groupby(['userId'])['rating'].count().reset_index(name= 'count')\n",
    "print('the number of user after removing outlier helpfulness', len(group_user_df))"
   ]
  },
  {
   "cell_type": "code",
   "execution_count": 18,
   "id": "489b2821",
   "metadata": {},
   "outputs": [
    {
     "data": {
      "text/html": [
       "<div>\n",
       "<style scoped>\n",
       "    .dataframe tbody tr th:only-of-type {\n",
       "        vertical-align: middle;\n",
       "    }\n",
       "\n",
       "    .dataframe tbody tr th {\n",
       "        vertical-align: top;\n",
       "    }\n",
       "\n",
       "    .dataframe thead th {\n",
       "        text-align: right;\n",
       "    }\n",
       "</style>\n",
       "<table border=\"1\" class=\"dataframe\">\n",
       "  <thead>\n",
       "    <tr style=\"text-align: right;\">\n",
       "      <th></th>\n",
       "      <th>userId</th>\n",
       "      <th>count</th>\n",
       "    </tr>\n",
       "  </thead>\n",
       "  <tbody>\n",
       "    <tr>\n",
       "      <th>0</th>\n",
       "      <td>3</td>\n",
       "      <td>3</td>\n",
       "    </tr>\n",
       "    <tr>\n",
       "      <th>1</th>\n",
       "      <td>4</td>\n",
       "      <td>3</td>\n",
       "    </tr>\n",
       "    <tr>\n",
       "      <th>2</th>\n",
       "      <td>7</td>\n",
       "      <td>1</td>\n",
       "    </tr>\n",
       "    <tr>\n",
       "      <th>3</th>\n",
       "      <td>10</td>\n",
       "      <td>1</td>\n",
       "    </tr>\n",
       "    <tr>\n",
       "      <th>4</th>\n",
       "      <td>12</td>\n",
       "      <td>1</td>\n",
       "    </tr>\n",
       "  </tbody>\n",
       "</table>\n",
       "</div>"
      ],
      "text/plain": [
       "   userId  count\n",
       "0       3      3\n",
       "1       4      3\n",
       "2       7      1\n",
       "3      10      1\n",
       "4      12      1"
      ]
     },
     "execution_count": 18,
     "metadata": {},
     "output_type": "execute_result"
    }
   ],
   "source": [
    "group_user_df.head()"
   ]
  },
  {
   "cell_type": "code",
   "execution_count": 19,
   "id": "fea01cdc",
   "metadata": {},
   "outputs": [
    {
     "name": "stdout",
     "output_type": "stream",
     "text": [
      "135\n"
     ]
    }
   ],
   "source": [
    "# get the ids of users who have rated no less than 7 items\n",
    "userIds = group_user_df[group_user_df['count'] >= 7]['userId'].tolist()\n",
    "print(len(userIds))"
   ]
  },
  {
   "cell_type": "code",
   "execution_count": 20,
   "id": "e4e98927",
   "metadata": {},
   "outputs": [],
   "source": [
    "# filter users who have rated less than 7 items\n",
    "remove_outlier_df = remove_outlier_df[remove_outlier_df['userId'].isin(userIds)]"
   ]
  },
  {
   "cell_type": "code",
   "execution_count": 21,
   "id": "a4c412c5",
   "metadata": {},
   "outputs": [
    {
     "name": "stdout",
     "output_type": "stream",
     "text": [
      "the length of data is 1292\n"
     ]
    }
   ],
   "source": [
    "print('the length of data is', len(remove_outlier_df))"
   ]
  },
  {
   "cell_type": "code",
   "execution_count": 22,
   "id": "6661cd46",
   "metadata": {},
   "outputs": [
    {
     "data": {
      "text/html": [
       "<div>\n",
       "<style scoped>\n",
       "    .dataframe tbody tr th:only-of-type {\n",
       "        vertical-align: middle;\n",
       "    }\n",
       "\n",
       "    .dataframe tbody tr th {\n",
       "        vertical-align: top;\n",
       "    }\n",
       "\n",
       "    .dataframe thead th {\n",
       "        text-align: right;\n",
       "    }\n",
       "</style>\n",
       "<table border=\"1\" class=\"dataframe\">\n",
       "  <thead>\n",
       "    <tr style=\"text-align: right;\">\n",
       "      <th></th>\n",
       "      <th>item</th>\n",
       "      <th>count</th>\n",
       "    </tr>\n",
       "  </thead>\n",
       "  <tbody>\n",
       "    <tr>\n",
       "      <th>0</th>\n",
       "      <td>AOL (America Online)</td>\n",
       "      <td>26</td>\n",
       "    </tr>\n",
       "    <tr>\n",
       "      <th>1</th>\n",
       "      <td>All Advantage</td>\n",
       "      <td>29</td>\n",
       "    </tr>\n",
       "    <tr>\n",
       "      <th>2</th>\n",
       "      <td>Alta Vista (by 1stUp)</td>\n",
       "      <td>3</td>\n",
       "    </tr>\n",
       "    <tr>\n",
       "      <th>3</th>\n",
       "      <td>Amazon.com</td>\n",
       "      <td>10</td>\n",
       "    </tr>\n",
       "    <tr>\n",
       "      <th>4</th>\n",
       "      <td>American Airlines</td>\n",
       "      <td>9</td>\n",
       "    </tr>\n",
       "  </tbody>\n",
       "</table>\n",
       "</div>"
      ],
      "text/plain": [
       "                    item  count\n",
       "0   AOL (America Online)     26\n",
       "1          All Advantage     29\n",
       "2  Alta Vista (by 1stUp)      3\n",
       "3             Amazon.com     10\n",
       "4      American Airlines      9"
      ]
     },
     "execution_count": 22,
     "metadata": {},
     "output_type": "execute_result"
    }
   ],
   "source": [
    "# group items by their names and count the number of their ratings \n",
    "group_item_df = remove_outlier_df.groupby(['item'])['rating'].count().reset_index(name= 'count')\n",
    "group_item_df.head()"
   ]
  },
  {
   "cell_type": "code",
   "execution_count": 23,
   "id": "9e598839",
   "metadata": {},
   "outputs": [
    {
     "name": "stdout",
     "output_type": "stream",
     "text": [
      "57\n"
     ]
    }
   ],
   "source": [
    "# get the names of items that have received no less than 11 ratings\n",
    "items = group_item_df[group_item_df['count'] >= 11]['item'].tolist()\n",
    "print(len(items))"
   ]
  },
  {
   "cell_type": "code",
   "execution_count": 24,
   "id": "803e255c",
   "metadata": {},
   "outputs": [
    {
     "data": {
      "text/plain": [
       "1080"
      ]
     },
     "execution_count": 24,
     "metadata": {},
     "output_type": "execute_result"
    }
   ],
   "source": [
    "# filter items that have received less than 11 ratings\n",
    "remove_outlier_df = remove_outlier_df[remove_outlier_df['item'].isin(items)]\n",
    "len(remove_outlier_df)"
   ]
  },
  {
   "cell_type": "code",
   "execution_count": 27,
   "id": "bcb15455",
   "metadata": {},
   "outputs": [],
   "source": [
    "# export the processed data as csv file\n",
    "remove_outlier_df.to_csv('Epinions_data_clean.csv', index=False)"
   ]
  },
  {
   "cell_type": "code",
   "execution_count": null,
   "id": "c7ecae9a",
   "metadata": {},
   "outputs": [],
   "source": []
  }
 ],
 "metadata": {
  "kernelspec": {
   "display_name": "Python 3 (ipykernel)",
   "language": "python",
   "name": "python3"
  },
  "language_info": {
   "codemirror_mode": {
    "name": "ipython",
    "version": 3
   },
   "file_extension": ".py",
   "mimetype": "text/x-python",
   "name": "python",
   "nbconvert_exporter": "python",
   "pygments_lexer": "ipython3",
   "version": "3.10.3"
  }
 },
 "nbformat": 4,
 "nbformat_minor": 5
}
