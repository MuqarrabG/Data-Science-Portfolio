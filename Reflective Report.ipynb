{
 "cells": [
  {
   "cell_type": "markdown",
   "id": "c7022a4b",
   "metadata": {},
   "source": [
    "## Reflective Report\n",
    "**Name: Muhammad Muqarrab Ghori**\n",
    "**Student ID: 47111496**\n",
    "\n",
    "\n",
    "### Solving Problems\n",
    "My thought process has changed significantly when evaluating a possible solution to a problem. Before jupyter x python environment coding, I had very technical hands on approach to coding as in programming languages I used before we javascript, java and C were programming libraries their to only aid logic of the function you design, were as in python, libraries have been extensively designed for a set purpose such in the case of this  unit we used fully completed libraries extensively designed to be used for reading and interpreting data. My approach to solving problems on the given portfolios was rather than taking more technical approach on writing a function that describes the dataset then reading the documentation of library I was importing where the said function already existed. \n",
    "\n",
    "When beginning to work on any given dataset I would go through the process of the cleaning the dataset to ensure our prediction models are as accurate as possible. This process usually involved checking and removing any outliers or null values. Then I would go on to understand the given dataset by printing its length, creating a visual graphs such as boxplots, correlation tables, heatmaps and lines graphs. This helped me understand patterns and correlation in the dataset with aid with forming conclusions on which features would be the best to test machine learning models on, which allowed the models to predict more accurate outcomes for that feature for future values.\n",
    "\n",
    "### My Progression\n",
    "I have progessed quite a bit since week 1 both in terms of utilising jupyter to interpret data and coding in python. Every workshop I learned something new but the main theme was understanding how the libraries you are importing work, what are the functions, what do they do, what are they're parameters, etc. For instance in Portfolio 4 one of my test datasets was excel files so I had to use a different read function read the file then another funciton to read the sheets inside the excel imported files.\n",
    "\n",
    "In the future, I don't really see myself working as a data scientist , although I can see the many benefits this line of work from a business point of views. I am more on the technical side of coding world, I would much rather enjoys building a .describe() function then using it. I would definitely using the data analysis skills learned in this unit to study Formula One Races as I am avid fan of the sport.\n",
    "\n",
    "## Porfolio 4 Discussion\n",
    "For Porfolio 4 I chose the dataset provided by a Health Insurance company who wanted to predictive which types of customer would be more inclined to getting car insurance policy from them too. I chose this datase as I found it the features of the dataset to be chosen carefully and attributes of individuals that mau be factor included in the dataset such as previous insured status, their cars age and their area. Overall the dataset was completed and matured to derived conclusions from.\n",
    "\n",
    "To address the problem at hand whether the Health Insurance company would get there car insurance policy from them, I cleaned up the dataset and changed Males and Females into numbers. My main problem with data set occured when I tried to convert the Vechicle Age columns in term of 0 and 1, after reading through the documentatin I found a function called getdummies which categorical values to 0,1. I had the another setback when I fine tuned KNN  method using GridSearchCV, the code couldn't output the learnings in time as the dataset was quite large.\n",
    "\n",
    "In conclusion, porfolios task have given and develop my skill of solving data related problem/questions within the jupyter notebook environment, I will be using this skill to expand over graphics machine learning models"
   ]
  }
 ],
 "metadata": {
  "kernelspec": {
   "display_name": "Python 3 (ipykernel)",
   "language": "python",
   "name": "python3"
  },
  "language_info": {
   "codemirror_mode": {
    "name": "ipython",
    "version": 3
   },
   "file_extension": ".py",
   "mimetype": "text/x-python",
   "name": "python",
   "nbconvert_exporter": "python",
   "pygments_lexer": "ipython3",
   "version": "3.9.12"
  }
 },
 "nbformat": 4,
 "nbformat_minor": 5
}
