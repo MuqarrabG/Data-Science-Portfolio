{
 "cells": [
  {
   "cell_type": "markdown",
   "id": "8db7dd2d",
   "metadata": {},
   "source": [
    "### Analysis of Epinions Data\n",
    "\n",
    "We are provided with the Epinions data collected through a general consumer review web site Epinions.com. Each user on the site can rate and post a review for products (items) and other users would rate the review to show the helpfulness of the review.\n",
    "In this data, for each user, we have user ID, gender, ratings (1-5) and reviews towards the products they bought. For each rating, we have the product name and its category, the rating score, the time point when the rating is created, and the helpfulness (1-6) of this rating.\n",
    "\n",
    "Originally, there are several separate files to record the user-item rating info, user demographic info and item descriptive info, we have conducted preliminary processing to map and merge the data into one csv file named 'Epinions_test_data.csv'. The header of the csv file is shown below. \n",
    "\n",
    "\n",
    "| userId | gender | rating | review| item | category | helpfulness | timestamp |\n",
    "    | ---- | ---- | ---- | ---- | ---- | ---- | ---- | ---- | \n",
    "    \n",
    "#### Description of Fields\n",
    "\n",
    "* __userId__ - the user's id\n",
    "* __gender__ - the user's gender\n",
    "* __item__ - the product's name\n",
    "* __category__ - the category of the item\n",
    "* __rating__ - the user's rating towards the item\n",
    "* __review__ - the user's review towards the item\n",
    "* __helpfulness__ - the helpfulness of this rating\n",
    "* __timestamp__ - the timestamp when the rating is created\n",
    "\n",
    "Note that, a same user (i.e., a same userId) corresponds to a same gender; a same item corresponds to a same category; a same user (i.e., a same userId) may rate multiple items; a same item may receive ratings and reviews from multiple users and each review is associted with a single helpfulness value calculated based on the feedbacks from other users.\n",
    "\n",
    "There are four questions to explore with the data as shown below."
   ]
  },
  {
   "cell_type": "markdown",
   "id": "55e7ba22",
   "metadata": {},
   "source": [
    " #### Q1. Remove missing data\n",
    " \n",
    "Please remove the following records in the csv file: \n",
    " \n",
    " * gender/rating/helpfulness is missing\n",
    " * review is 'none'\n",
    "\n",
    "__Display the DataFrame, counting number of Null values in each column, and print the length of the data__ before and after removing the missing data.  "
   ]
  },
  {
   "cell_type": "code",
   "execution_count": 1,
   "id": "6d5badb4",
   "metadata": {},
   "outputs": [
    {
     "name": "stdout",
     "output_type": "stream",
     "text": [
      "Using matplotlib backend: <object object at 0x000002682C0AEF90>\n"
     ]
    }
   ],
   "source": [
    "# your code and solutions\n",
    "## Importing all the tools needed\n",
    "import pandas as pd\n",
    "import numpy as np\n",
    "import matplotlib.pyplot as plt\n",
    "%matplotlib"
   ]
  },
  {
   "cell_type": "code",
   "execution_count": 2,
   "id": "2beb9889",
   "metadata": {},
   "outputs": [],
   "source": [
    "#columns  = ['userid', 'gender', 'rating', 'review', 'item', 'category', 'helpfulness', 'timestamp']\n",
    "userData = pd.read_csv('Epinions_test_data.csv')"
   ]
  },
  {
   "cell_type": "code",
   "execution_count": 3,
   "id": "ecf4f610",
   "metadata": {},
   "outputs": [
    {
     "name": "stdout",
     "output_type": "stream",
     "text": [
      "<class 'pandas.core.frame.DataFrame'>\n",
      "RangeIndex: 10000 entries, 0 to 9999\n",
      "Data columns (total 8 columns):\n",
      " #   Column       Non-Null Count  Dtype  \n",
      "---  ------       --------------  -----  \n",
      " 0   userId       10000 non-null  int64  \n",
      " 1   gender       9973 non-null   object \n",
      " 2   item         10000 non-null  object \n",
      " 3   rating       9969 non-null   float64\n",
      " 4   review       10000 non-null  object \n",
      " 5   helpfulness  9974 non-null   float64\n",
      " 6   timestamp    10000 non-null  int64  \n",
      " 7   category     10000 non-null  object \n",
      "dtypes: float64(2), int64(2), object(4)\n",
      "memory usage: 625.1+ KB\n"
     ]
    }
   ],
   "source": [
    "userData.info()"
   ]
  },
  {
   "cell_type": "code",
   "execution_count": 4,
   "id": "d12ad96e",
   "metadata": {},
   "outputs": [
    {
     "data": {
      "text/html": [
       "<div>\n",
       "<style scoped>\n",
       "    .dataframe tbody tr th:only-of-type {\n",
       "        vertical-align: middle;\n",
       "    }\n",
       "\n",
       "    .dataframe tbody tr th {\n",
       "        vertical-align: top;\n",
       "    }\n",
       "\n",
       "    .dataframe thead th {\n",
       "        text-align: right;\n",
       "    }\n",
       "</style>\n",
       "<table border=\"1\" class=\"dataframe\">\n",
       "  <thead>\n",
       "    <tr style=\"text-align: right;\">\n",
       "      <th></th>\n",
       "      <th>userId</th>\n",
       "      <th>gender</th>\n",
       "      <th>item</th>\n",
       "      <th>rating</th>\n",
       "      <th>review</th>\n",
       "      <th>helpfulness</th>\n",
       "      <th>timestamp</th>\n",
       "      <th>category</th>\n",
       "    </tr>\n",
       "  </thead>\n",
       "  <tbody>\n",
       "    <tr>\n",
       "      <th>0</th>\n",
       "      <td>1324</td>\n",
       "      <td>F</td>\n",
       "      <td>NBC</td>\n",
       "      <td>5.0</td>\n",
       "      <td>They made it after all....</td>\n",
       "      <td>4.0</td>\n",
       "      <td>21400</td>\n",
       "      <td>Media</td>\n",
       "    </tr>\n",
       "    <tr>\n",
       "      <th>1</th>\n",
       "      <td>10222</td>\n",
       "      <td>M</td>\n",
       "      <td>NetFlix</td>\n",
       "      <td>2.0</td>\n",
       "      <td>Don't Bother Unless you live in a remote area</td>\n",
       "      <td>2.0</td>\n",
       "      <td>41604</td>\n",
       "      <td>Online Stores &amp; Services</td>\n",
       "    </tr>\n",
       "    <tr>\n",
       "      <th>2</th>\n",
       "      <td>2777</td>\n",
       "      <td>M</td>\n",
       "      <td>Toy Story 2</td>\n",
       "      <td>4.0</td>\n",
       "      <td>Good for adults and children</td>\n",
       "      <td>4.0</td>\n",
       "      <td>10200</td>\n",
       "      <td>Movies</td>\n",
       "    </tr>\n",
       "    <tr>\n",
       "      <th>3</th>\n",
       "      <td>11763</td>\n",
       "      <td>M</td>\n",
       "      <td>Fight Club</td>\n",
       "      <td>5.0</td>\n",
       "      <td>I wish I wasn't hesitant about this movie</td>\n",
       "      <td>4.0</td>\n",
       "      <td>70100</td>\n",
       "      <td>Movies</td>\n",
       "    </tr>\n",
       "    <tr>\n",
       "      <th>4</th>\n",
       "      <td>6003</td>\n",
       "      <td>M</td>\n",
       "      <td>Quicken Loans</td>\n",
       "      <td>5.0</td>\n",
       "      <td>Used Quicken Loans to save time and money on r...</td>\n",
       "      <td>5.0</td>\n",
       "      <td>72103</td>\n",
       "      <td>Personal Finance</td>\n",
       "    </tr>\n",
       "  </tbody>\n",
       "</table>\n",
       "</div>"
      ],
      "text/plain": [
       "   userId gender           item  rating  \\\n",
       "0    1324      F            NBC     5.0   \n",
       "1   10222      M        NetFlix     2.0   \n",
       "2    2777      M    Toy Story 2     4.0   \n",
       "3   11763      M     Fight Club     5.0   \n",
       "4    6003      M  Quicken Loans     5.0   \n",
       "\n",
       "                                              review  helpfulness  timestamp  \\\n",
       "0                         They made it after all....          4.0      21400   \n",
       "1      Don't Bother Unless you live in a remote area          2.0      41604   \n",
       "2                       Good for adults and children          4.0      10200   \n",
       "3          I wish I wasn't hesitant about this movie          4.0      70100   \n",
       "4  Used Quicken Loans to save time and money on r...          5.0      72103   \n",
       "\n",
       "                   category  \n",
       "0                     Media  \n",
       "1  Online Stores & Services  \n",
       "2                    Movies  \n",
       "3                    Movies  \n",
       "4          Personal Finance  "
      ]
     },
     "execution_count": 4,
     "metadata": {},
     "output_type": "execute_result"
    }
   ],
   "source": [
    "userData.head()"
   ]
  },
  {
   "cell_type": "code",
   "execution_count": 5,
   "id": "70d5db63",
   "metadata": {},
   "outputs": [
    {
     "name": "stdout",
     "output_type": "stream",
     "text": [
      "Length of the data before removing missing data  10000\n"
     ]
    }
   ],
   "source": [
    "#Dataframe before cleaning\n",
    "print('Length of the data before removing missing data ', len(userData))"
   ]
  },
  {
   "cell_type": "code",
   "execution_count": 6,
   "id": "81853be1",
   "metadata": {},
   "outputs": [
    {
     "name": "stdout",
     "output_type": "stream",
     "text": [
      "Length of the data after removing the missing data  9890\n"
     ]
    }
   ],
   "source": [
    "#Cleaning the dataframe\n",
    "clean_userData = userData.drop(userData.index[(userData['review'] == 'none')]).dropna()\n",
    "print('Length of the data after removing the missing data ', len(clean_userData))"
   ]
  },
  {
   "cell_type": "code",
   "execution_count": 7,
   "id": "a353334e",
   "metadata": {},
   "outputs": [
    {
     "name": "stdout",
     "output_type": "stream",
     "text": [
      "<class 'pandas.core.frame.DataFrame'>\n",
      "Int64Index: 9890 entries, 0 to 9999\n",
      "Data columns (total 8 columns):\n",
      " #   Column       Non-Null Count  Dtype  \n",
      "---  ------       --------------  -----  \n",
      " 0   userId       9890 non-null   int64  \n",
      " 1   gender       9890 non-null   object \n",
      " 2   item         9890 non-null   object \n",
      " 3   rating       9890 non-null   float64\n",
      " 4   review       9890 non-null   object \n",
      " 5   helpfulness  9890 non-null   float64\n",
      " 6   timestamp    9890 non-null   int64  \n",
      " 7   category     9890 non-null   object \n",
      "dtypes: float64(2), int64(2), object(4)\n",
      "memory usage: 695.4+ KB\n"
     ]
    }
   ],
   "source": [
    "clean_userData.info()"
   ]
  },
  {
   "cell_type": "markdown",
   "id": "88381f1a",
   "metadata": {},
   "source": [
    "#### Q2. Descriptive statistics\n",
    "\n",
    "With the cleaned data in Q1, please provide the data summarization as below:\n",
    "\n",
    "* Q2.1 total number of unique users, unique reviews, unique items, and unique categories\n",
    "* Q2.2 descriptive statistics, e.g., the total number, mean, std, min and max regarding all rating records\n",
    "* Q2.3 descriptive statistics, e.g., mean, std, max, and min of the number of items rated by different genders \n",
    "* Q2.4 descriptive statistics, e.g., mean, std, max, min of the number of ratings that received by each items \n"
   ]
  },
  {
   "cell_type": "code",
   "execution_count": 8,
   "id": "5df66a22",
   "metadata": {},
   "outputs": [
    {
     "name": "stdout",
     "output_type": "stream",
     "text": [
      "Number of unique user:  4326\n",
      "Number of unique items:  89\n",
      "Number of unique reviews:  9727\n",
      "Number of unique categories:  9\n"
     ]
    }
   ],
   "source": [
    "#Q2.1 total number of unique users, unique reviews, unique items, and unique categories\n",
    "#Attempt\n",
    "unique_users = clean_userData['userId'].unique()\n",
    "print('Number of unique user: ', unique_users.size)\n",
    "\n",
    "unique_items = clean_userData['item'].unique()\n",
    "print('Number of unique items: ', unique_items.size)\n",
    "\n",
    "unique_reviews = clean_userData['review'].unique()\n",
    "print('Number of unique reviews: ', unique_reviews.size)\n",
    "\n",
    "unique_categories = clean_userData['category'].unique()\n",
    "print('Number of unique categories: ', unique_categories.size)"
   ]
  },
  {
   "cell_type": "code",
   "execution_count": 9,
   "id": "2a1eb599",
   "metadata": {},
   "outputs": [
    {
     "data": {
      "text/plain": [
       "count    9890.000000\n",
       "mean        3.701517\n",
       "std         1.387026\n",
       "min         1.000000\n",
       "25%         3.000000\n",
       "50%         4.000000\n",
       "75%         5.000000\n",
       "max         5.000000\n",
       "Name: rating, dtype: float64"
      ]
     },
     "execution_count": 9,
     "metadata": {},
     "output_type": "execute_result"
    }
   ],
   "source": [
    "#Q2.2 descriptive statistics, e.g., the total number, mean, std, min and max regarding all rating records\n",
    "# Q2.2 Attempt\n",
    "clean_userData['rating'].describe()"
   ]
  },
  {
   "cell_type": "code",
   "execution_count": 10,
   "id": "aeb82a3e",
   "metadata": {},
   "outputs": [
    {
     "data": {
      "text/html": [
       "<div>\n",
       "<style scoped>\n",
       "    .dataframe tbody tr th:only-of-type {\n",
       "        vertical-align: middle;\n",
       "    }\n",
       "\n",
       "    .dataframe tbody tr th {\n",
       "        vertical-align: top;\n",
       "    }\n",
       "\n",
       "    .dataframe thead th {\n",
       "        text-align: right;\n",
       "    }\n",
       "</style>\n",
       "<table border=\"1\" class=\"dataframe\">\n",
       "  <thead>\n",
       "    <tr style=\"text-align: right;\">\n",
       "      <th></th>\n",
       "      <th>gender</th>\n",
       "      <th>count</th>\n",
       "    </tr>\n",
       "  </thead>\n",
       "  <tbody>\n",
       "    <tr>\n",
       "      <th>0</th>\n",
       "      <td>F</td>\n",
       "      <td>5025</td>\n",
       "    </tr>\n",
       "    <tr>\n",
       "      <th>1</th>\n",
       "      <td>M</td>\n",
       "      <td>4865</td>\n",
       "    </tr>\n",
       "  </tbody>\n",
       "</table>\n",
       "</div>"
      ],
      "text/plain": [
       "  gender  count\n",
       "0      F   5025\n",
       "1      M   4865"
      ]
     },
     "execution_count": 10,
     "metadata": {},
     "output_type": "execute_result"
    }
   ],
   "source": [
    "# Q2.3 descriptive statistics, e.g., mean, std, max, and min of the number of items rated by different genders\n",
    "# Attempt\n",
    "genderRatedCount = clean_userData.groupby(['gender'])['item'].count().reset_index(name='count')\n",
    "genderRatedCount.head()"
   ]
  },
  {
   "cell_type": "code",
   "execution_count": 11,
   "id": "95b5daa5",
   "metadata": {},
   "outputs": [
    {
     "data": {
      "text/plain": [
       "count       2.000000\n",
       "mean     4945.000000\n",
       "std       113.137085\n",
       "min      4865.000000\n",
       "25%      4905.000000\n",
       "50%      4945.000000\n",
       "75%      4985.000000\n",
       "max      5025.000000\n",
       "Name: count, dtype: float64"
      ]
     },
     "execution_count": 11,
     "metadata": {},
     "output_type": "execute_result"
    }
   ],
   "source": [
    "genderRatedCount['count'].describe()"
   ]
  },
  {
   "cell_type": "code",
   "execution_count": 12,
   "id": "cab0942b",
   "metadata": {},
   "outputs": [
    {
     "data": {
      "text/html": [
       "<div>\n",
       "<style scoped>\n",
       "    .dataframe tbody tr th:only-of-type {\n",
       "        vertical-align: middle;\n",
       "    }\n",
       "\n",
       "    .dataframe tbody tr th {\n",
       "        vertical-align: top;\n",
       "    }\n",
       "\n",
       "    .dataframe thead th {\n",
       "        text-align: right;\n",
       "    }\n",
       "</style>\n",
       "<table border=\"1\" class=\"dataframe\">\n",
       "  <thead>\n",
       "    <tr style=\"text-align: right;\">\n",
       "      <th></th>\n",
       "      <th>item</th>\n",
       "      <th>count</th>\n",
       "    </tr>\n",
       "  </thead>\n",
       "  <tbody>\n",
       "    <tr>\n",
       "      <th>0</th>\n",
       "      <td>AOL (America Online)</td>\n",
       "      <td>446</td>\n",
       "    </tr>\n",
       "    <tr>\n",
       "      <th>1</th>\n",
       "      <td>All Advantage</td>\n",
       "      <td>306</td>\n",
       "    </tr>\n",
       "    <tr>\n",
       "      <th>2</th>\n",
       "      <td>Alta Vista (by 1stUp)</td>\n",
       "      <td>84</td>\n",
       "    </tr>\n",
       "    <tr>\n",
       "      <th>3</th>\n",
       "      <td>Amazon.com</td>\n",
       "      <td>110</td>\n",
       "    </tr>\n",
       "    <tr>\n",
       "      <th>4</th>\n",
       "      <td>American Airlines</td>\n",
       "      <td>92</td>\n",
       "    </tr>\n",
       "  </tbody>\n",
       "</table>\n",
       "</div>"
      ],
      "text/plain": [
       "                    item  count\n",
       "0   AOL (America Online)    446\n",
       "1          All Advantage    306\n",
       "2  Alta Vista (by 1stUp)     84\n",
       "3             Amazon.com    110\n",
       "4      American Airlines     92"
      ]
     },
     "execution_count": 12,
     "metadata": {},
     "output_type": "execute_result"
    }
   ],
   "source": [
    "#Q2.4 descriptive statistics, e.g., mean, std, max, min of the number of ratings that received by each items\n",
    "#Attempt\n",
    "itemRateRatings = clean_userData.groupby(['item'])['rating'].count().reset_index(name='count')\n",
    "itemRateRatings.head()"
   ]
  },
  {
   "cell_type": "code",
   "execution_count": 13,
   "id": "629ed3c8",
   "metadata": {},
   "outputs": [
    {
     "data": {
      "text/plain": [
       "count     89.000000\n",
       "mean     111.123596\n",
       "std       55.955709\n",
       "min       60.000000\n",
       "25%       82.000000\n",
       "50%       92.000000\n",
       "75%      121.000000\n",
       "max      446.000000\n",
       "Name: count, dtype: float64"
      ]
     },
     "execution_count": 13,
     "metadata": {},
     "output_type": "execute_result"
    }
   ],
   "source": [
    "itemRateRatings['count'].describe()"
   ]
  },
  {
   "cell_type": "markdown",
   "id": "f204bb70",
   "metadata": {},
   "source": [
    "#### Q3. Plotting and Analysis\n",
    "\n",
    "Please try to explore the correlation between gender/helpfulness/category and ratings; for instance, do female/male users tend to provide higher ratings than male/female users? Hint: you may use the boxplot function to plot figures for comparison (___Challenge___)\n",
    "    \n",
    "You may need to select the most suitable graphic forms for ease of presentation. Most importantly, for each figure or subfigure, please summarise ___what each plot shows___ (i.e. observations and explanations). Finally, you may need to provide an overall summary of the data."
   ]
  },
  {
   "cell_type": "code",
   "execution_count": 26,
   "id": "e3b47356",
   "metadata": {},
   "outputs": [
    {
     "data": {
      "text/plain": [
       "<AxesSubplot:title={'center':'rating'}, xlabel='gender'>"
      ]
     },
     "execution_count": 26,
     "metadata": {},
     "output_type": "execute_result"
    }
   ],
   "source": [
    "# Correlation between gender and ratings\n",
    "clean_userData.boxplot(\"rating\", by = \"gender\")"
   ]
  },
  {
   "cell_type": "markdown",
   "id": "bd6f52e6",
   "metadata": {},
   "source": [
    "<img src=\"Figure_1.png\" >\n",
    "\n",
    "# Analysis\n",
    "\n",
    "<p>Distrubution of rating for male and female are identical therefore it shows, gender does not play role in influencing ratings</p>"
   ]
  },
  {
   "cell_type": "code",
   "execution_count": 15,
   "id": "b371d313",
   "metadata": {},
   "outputs": [
    {
     "data": {
      "text/plain": [
       "<AxesSubplot:title={'center':'rating'}, xlabel='helpfulness'>"
      ]
     },
     "execution_count": 15,
     "metadata": {},
     "output_type": "execute_result"
    }
   ],
   "source": [
    "# Correlation between helpfuness and ratings\n",
    "clean_userData.boxplot(\"rating\", by = \"helpfulness\")"
   ]
  },
  {
   "cell_type": "markdown",
   "id": "62f3924f",
   "metadata": {},
   "source": [
    "<img src=\"Figure_2.png\" >\n",
    "\n",
    "# Analysis\n",
    "\n",
    "<p>Here we can see that higher ratings tend to have higher helpfulness score, indicating that there is a positive correlation between rating with helpfulness</p>\n",
    "\n",
    "We can conclude that product with higher helpfulness score is generally rate higher number of stars, this is evident for product that work as indented and quality of their work matches the standard promised on the box itself or an advertisment of that product.\n",
    "\n",
    "In summary there is strong evidence by examining the above boxplot that positive correlation between helpfullness and rating of a product"
   ]
  },
  {
   "cell_type": "code",
   "execution_count": 16,
   "id": "e9f237fa",
   "metadata": {},
   "outputs": [
    {
     "data": {
      "text/plain": [
       "(array([1, 2, 3, 4, 5, 6, 7, 8, 9]),\n",
       " [Text(1, 0, 'Books'),\n",
       "  Text(2, 0, 'Games'),\n",
       "  Text(3, 0, 'Hotels & Travel'),\n",
       "  Text(4, 0, 'Kids & Family'),\n",
       "  Text(5, 0, 'Media'),\n",
       "  Text(6, 0, 'Movies'),\n",
       "  Text(7, 0, 'Online Stores & Services'),\n",
       "  Text(8, 0, 'Personal Finance'),\n",
       "  Text(9, 0, 'Restaurants & Gourmet')])"
      ]
     },
     "execution_count": 16,
     "metadata": {},
     "output_type": "execute_result"
    }
   ],
   "source": [
    "# Correlation between category and ratings\n",
    "clean_userData.boxplot(\"rating\", by = \"category\")\n",
    "plt.xticks(rotation = 90)"
   ]
  },
  {
   "cell_type": "markdown",
   "id": "edfff78a",
   "metadata": {},
   "source": [
    "<img src=\"Figure_3.png\" >\n",
    "\n",
    "# Analysis\n",
    "\n",
    "Distribution of category by rating is are quite similiar with exception being Games and Books\n",
    "\n",
    "Examining the boxplot we can see books are normally rated the highest indicating books are made up to a high standard followed by Games category being the second highest standard for publishing products\n",
    "\n",
    "# Summary of the Data\n",
    "\n",
    "Dataframe with 4326 unique users and 9 category based reviews and rating, provides sufficient data to analysis form solid correlations with the given categories"
   ]
  },
  {
   "cell_type": "markdown",
   "id": "cbd8226c",
   "metadata": {},
   "source": [
    "#### Q4. Detect and remove outliers\n",
    "\n",
    "We may define outlier users, reviews and items with three rules (if a record meets one of the rules, it is regarded as an outlier):\n",
    "\n",
    "* reviews of which the helpfulness is no more than 2\n",
    "* users who rate less than 7 items\n",
    "* items that receives less than 11 ratings \n",
    " \n",
    "Please remove the corresponding records in the csv file that involves outlier users, reviews and items. After that, __print the length of the data__."
   ]
  },
  {
   "cell_type": "code",
   "execution_count": 17,
   "id": "e07f16c3",
   "metadata": {},
   "outputs": [
    {
     "name": "stdout",
     "output_type": "stream",
     "text": [
      "Length of Dataframe after removing outlier in helpfulness:  7562\n"
     ]
    }
   ],
   "source": [
    "# Remove reviews of which the helpfulness is no more than 2\n",
    "removeHelpOut = clean_userData.drop(clean_userData.index[(clean_userData['helpfulness'] <= 2)])\n",
    "print('Length of Dataframe after removing outlier in helpfulness: ', len(removeHelpOut))"
   ]
  },
  {
   "cell_type": "code",
   "execution_count": 18,
   "id": "78f9535c",
   "metadata": {},
   "outputs": [
    {
     "name": "stdout",
     "output_type": "stream",
     "text": [
      "The number of users after removing outlier helpfulness:  3667\n"
     ]
    }
   ],
   "source": [
    "# Group Reviews by their users and items\n",
    "groupReview = removeHelpOut.groupby(['userId'])['item'].count().reset_index(name= 'count')\n",
    "print('The number of users after removing outlier helpfulness: ', len(groupReview))"
   ]
  },
  {
   "cell_type": "code",
   "execution_count": 19,
   "id": "6a05f04b",
   "metadata": {},
   "outputs": [
    {
     "data": {
      "text/html": [
       "<div>\n",
       "<style scoped>\n",
       "    .dataframe tbody tr th:only-of-type {\n",
       "        vertical-align: middle;\n",
       "    }\n",
       "\n",
       "    .dataframe tbody tr th {\n",
       "        vertical-align: top;\n",
       "    }\n",
       "\n",
       "    .dataframe thead th {\n",
       "        text-align: right;\n",
       "    }\n",
       "</style>\n",
       "<table border=\"1\" class=\"dataframe\">\n",
       "  <thead>\n",
       "    <tr style=\"text-align: right;\">\n",
       "      <th></th>\n",
       "      <th>userId</th>\n",
       "      <th>count</th>\n",
       "    </tr>\n",
       "  </thead>\n",
       "  <tbody>\n",
       "    <tr>\n",
       "      <th>0</th>\n",
       "      <td>3</td>\n",
       "      <td>3</td>\n",
       "    </tr>\n",
       "    <tr>\n",
       "      <th>1</th>\n",
       "      <td>4</td>\n",
       "      <td>3</td>\n",
       "    </tr>\n",
       "    <tr>\n",
       "      <th>2</th>\n",
       "      <td>7</td>\n",
       "      <td>1</td>\n",
       "    </tr>\n",
       "    <tr>\n",
       "      <th>3</th>\n",
       "      <td>10</td>\n",
       "      <td>1</td>\n",
       "    </tr>\n",
       "    <tr>\n",
       "      <th>4</th>\n",
       "      <td>12</td>\n",
       "      <td>1</td>\n",
       "    </tr>\n",
       "  </tbody>\n",
       "</table>\n",
       "</div>"
      ],
      "text/plain": [
       "   userId  count\n",
       "0       3      3\n",
       "1       4      3\n",
       "2       7      1\n",
       "3      10      1\n",
       "4      12      1"
      ]
     },
     "execution_count": 19,
     "metadata": {},
     "output_type": "execute_result"
    }
   ],
   "source": [
    "groupReview.head()"
   ]
  },
  {
   "cell_type": "code",
   "execution_count": 20,
   "id": "9d606190",
   "metadata": {},
   "outputs": [
    {
     "name": "stdout",
     "output_type": "stream",
     "text": [
      "3532\n"
     ]
    }
   ],
   "source": [
    "# users who rate less than 7 items\n",
    "# Attempt\n",
    "users7 = groupReview[groupReview['count'] < 7]['userId'].tolist()\n",
    "print(len(users7))"
   ]
  },
  {
   "cell_type": "code",
   "execution_count": 21,
   "id": "41077556",
   "metadata": {},
   "outputs": [
    {
     "name": "stdout",
     "output_type": "stream",
     "text": [
      "The length of data:  1292\n"
     ]
    }
   ],
   "source": [
    "# filter users have rated less than 7 items\n",
    "#removeHelpOut = removeHelpOut[removeHelpOut['userId'].isin(users7)]\n",
    "userClean = removeHelpOut.drop(removeHelpOut.index[removeHelpOut['userId'].isin(users7)])\n",
    "print('The length of data: ', len(userClean))"
   ]
  },
  {
   "cell_type": "code",
   "execution_count": 22,
   "id": "02ddae34",
   "metadata": {},
   "outputs": [
    {
     "data": {
      "text/html": [
       "<div>\n",
       "<style scoped>\n",
       "    .dataframe tbody tr th:only-of-type {\n",
       "        vertical-align: middle;\n",
       "    }\n",
       "\n",
       "    .dataframe tbody tr th {\n",
       "        vertical-align: top;\n",
       "    }\n",
       "\n",
       "    .dataframe thead th {\n",
       "        text-align: right;\n",
       "    }\n",
       "</style>\n",
       "<table border=\"1\" class=\"dataframe\">\n",
       "  <thead>\n",
       "    <tr style=\"text-align: right;\">\n",
       "      <th></th>\n",
       "      <th>item</th>\n",
       "      <th>count</th>\n",
       "    </tr>\n",
       "  </thead>\n",
       "  <tbody>\n",
       "    <tr>\n",
       "      <th>0</th>\n",
       "      <td>AOL (America Online)</td>\n",
       "      <td>26</td>\n",
       "    </tr>\n",
       "    <tr>\n",
       "      <th>1</th>\n",
       "      <td>All Advantage</td>\n",
       "      <td>29</td>\n",
       "    </tr>\n",
       "    <tr>\n",
       "      <th>2</th>\n",
       "      <td>Alta Vista (by 1stUp)</td>\n",
       "      <td>3</td>\n",
       "    </tr>\n",
       "    <tr>\n",
       "      <th>3</th>\n",
       "      <td>Amazon.com</td>\n",
       "      <td>10</td>\n",
       "    </tr>\n",
       "    <tr>\n",
       "      <th>4</th>\n",
       "      <td>American Airlines</td>\n",
       "      <td>9</td>\n",
       "    </tr>\n",
       "    <tr>\n",
       "      <th>...</th>\n",
       "      <td>...</td>\n",
       "      <td>...</td>\n",
       "    </tr>\n",
       "    <tr>\n",
       "      <th>84</th>\n",
       "      <td>Wendy's</td>\n",
       "      <td>14</td>\n",
       "    </tr>\n",
       "    <tr>\n",
       "      <th>85</th>\n",
       "      <td>What Lies Beneath</td>\n",
       "      <td>12</td>\n",
       "    </tr>\n",
       "    <tr>\n",
       "      <th>86</th>\n",
       "      <td>X-Men</td>\n",
       "      <td>31</td>\n",
       "    </tr>\n",
       "    <tr>\n",
       "      <th>87</th>\n",
       "      <td>X.com</td>\n",
       "      <td>7</td>\n",
       "    </tr>\n",
       "    <tr>\n",
       "      <th>88</th>\n",
       "      <td>eBay</td>\n",
       "      <td>35</td>\n",
       "    </tr>\n",
       "  </tbody>\n",
       "</table>\n",
       "<p>89 rows × 2 columns</p>\n",
       "</div>"
      ],
      "text/plain": [
       "                     item  count\n",
       "0    AOL (America Online)     26\n",
       "1           All Advantage     29\n",
       "2   Alta Vista (by 1stUp)      3\n",
       "3              Amazon.com     10\n",
       "4       American Airlines      9\n",
       "..                    ...    ...\n",
       "84                Wendy's     14\n",
       "85      What Lies Beneath     12\n",
       "86                  X-Men     31\n",
       "87                  X.com      7\n",
       "88                   eBay     35\n",
       "\n",
       "[89 rows x 2 columns]"
      ]
     },
     "execution_count": 22,
     "metadata": {},
     "output_type": "execute_result"
    }
   ],
   "source": [
    "# group item byy their rating\n",
    "dfItem = userClean.groupby('item').count()['rating'].reset_index(name = 'count')\n",
    "dfItem"
   ]
  },
  {
   "cell_type": "code",
   "execution_count": 23,
   "id": "7832d65b",
   "metadata": {},
   "outputs": [
    {
     "data": {
      "text/plain": [
       "['Alta Vista (by 1stUp)',\n",
       " 'Amazon.com',\n",
       " 'American Airlines',\n",
       " 'Any Given Sunday',\n",
       " \"Applebee's\",\n",
       " 'Bank of America',\n",
       " 'BlueLight.com',\n",
       " 'Crouching Tiger, Hidden Dragon',\n",
       " 'Deep Blue Sea',\n",
       " 'Diablo 2 - Bestseller Series for Windows',\n",
       " 'Earthlink',\n",
       " 'Golden Eye 007 for Nintendo 64',\n",
       " 'Google',\n",
       " 'Huggies Ultra Trim Diapers',\n",
       " 'Luvs Ultra Leakguards Stretch',\n",
       " 'MTV',\n",
       " 'NetFlix',\n",
       " 'Northwest Airlines',\n",
       " 'Playtex Diaper Genie System',\n",
       " 'Priceline Flight Reservations',\n",
       " 'Quicken Loans',\n",
       " 'Road Runner (includes MediaOne)',\n",
       " 'Roller Coaster Tycoon For Windows',\n",
       " 'Sega Dreamcast Grey Console',\n",
       " 'Sony PlayStation 2 Slimline Console',\n",
       " 'Spedia',\n",
       " 'Teletubbies',\n",
       " 'The Legend Of Zelda Ocarina Of Time for Nintendo 64',\n",
       " 'The Original Furby',\n",
       " 'Treeloot.com',\n",
       " 'United Airlines',\n",
       " 'X.com']"
      ]
     },
     "execution_count": 23,
     "metadata": {},
     "output_type": "execute_result"
    }
   ],
   "source": [
    "# Filter items less than 11 ratings\n",
    "lowRateItem = dfItem[dfItem['count'] < 11]['item'].tolist()\n",
    "lowRateItem"
   ]
  },
  {
   "cell_type": "code",
   "execution_count": 24,
   "id": "2ec63b73",
   "metadata": {},
   "outputs": [
    {
     "data": {
      "text/html": [
       "<div>\n",
       "<style scoped>\n",
       "    .dataframe tbody tr th:only-of-type {\n",
       "        vertical-align: middle;\n",
       "    }\n",
       "\n",
       "    .dataframe tbody tr th {\n",
       "        vertical-align: top;\n",
       "    }\n",
       "\n",
       "    .dataframe thead th {\n",
       "        text-align: right;\n",
       "    }\n",
       "</style>\n",
       "<table border=\"1\" class=\"dataframe\">\n",
       "  <thead>\n",
       "    <tr style=\"text-align: right;\">\n",
       "      <th></th>\n",
       "      <th>userId</th>\n",
       "      <th>gender</th>\n",
       "      <th>item</th>\n",
       "      <th>rating</th>\n",
       "      <th>review</th>\n",
       "      <th>helpfulness</th>\n",
       "      <th>timestamp</th>\n",
       "      <th>category</th>\n",
       "    </tr>\n",
       "  </thead>\n",
       "  <tbody>\n",
       "    <tr>\n",
       "      <th>65</th>\n",
       "      <td>10729</td>\n",
       "      <td>F</td>\n",
       "      <td>NetZero</td>\n",
       "      <td>4.0</td>\n",
       "      <td>Good service</td>\n",
       "      <td>4.0</td>\n",
       "      <td>41201</td>\n",
       "      <td>Online Stores &amp; Services</td>\n",
       "    </tr>\n",
       "    <tr>\n",
       "      <th>67</th>\n",
       "      <td>10729</td>\n",
       "      <td>M</td>\n",
       "      <td>Shrek</td>\n",
       "      <td>5.0</td>\n",
       "      <td>Shrek is shrieking good fun</td>\n",
       "      <td>5.0</td>\n",
       "      <td>82101</td>\n",
       "      <td>Movies</td>\n",
       "    </tr>\n",
       "    <tr>\n",
       "      <th>69</th>\n",
       "      <td>10729</td>\n",
       "      <td>M</td>\n",
       "      <td>MyPoints.com</td>\n",
       "      <td>4.0</td>\n",
       "      <td>It's great!</td>\n",
       "      <td>5.0</td>\n",
       "      <td>92500</td>\n",
       "      <td>Online Stores &amp; Services</td>\n",
       "    </tr>\n",
       "    <tr>\n",
       "      <th>70</th>\n",
       "      <td>10729</td>\n",
       "      <td>M</td>\n",
       "      <td>Erin Brockovich</td>\n",
       "      <td>5.0</td>\n",
       "      <td>Great Film</td>\n",
       "      <td>6.0</td>\n",
       "      <td>102500</td>\n",
       "      <td>Movies</td>\n",
       "    </tr>\n",
       "    <tr>\n",
       "      <th>71</th>\n",
       "      <td>10729</td>\n",
       "      <td>M</td>\n",
       "      <td>How the Grinch Stole Christmas</td>\n",
       "      <td>5.0</td>\n",
       "      <td>Put me in the Christmas Spirit</td>\n",
       "      <td>5.0</td>\n",
       "      <td>112200</td>\n",
       "      <td>Movies</td>\n",
       "    </tr>\n",
       "    <tr>\n",
       "      <th>...</th>\n",
       "      <td>...</td>\n",
       "      <td>...</td>\n",
       "      <td>...</td>\n",
       "      <td>...</td>\n",
       "      <td>...</td>\n",
       "      <td>...</td>\n",
       "      <td>...</td>\n",
       "      <td>...</td>\n",
       "    </tr>\n",
       "    <tr>\n",
       "      <th>9815</th>\n",
       "      <td>12167</td>\n",
       "      <td>M</td>\n",
       "      <td>NetZero</td>\n",
       "      <td>5.0</td>\n",
       "      <td>A fair price</td>\n",
       "      <td>5.0</td>\n",
       "      <td>71000</td>\n",
       "      <td>Online Stores &amp; Services</td>\n",
       "    </tr>\n",
       "    <tr>\n",
       "      <th>9817</th>\n",
       "      <td>12167</td>\n",
       "      <td>F</td>\n",
       "      <td>Erin Brockovich</td>\n",
       "      <td>4.0</td>\n",
       "      <td>A new twist</td>\n",
       "      <td>4.0</td>\n",
       "      <td>100700</td>\n",
       "      <td>Movies</td>\n",
       "    </tr>\n",
       "    <tr>\n",
       "      <th>9865</th>\n",
       "      <td>1154</td>\n",
       "      <td>M</td>\n",
       "      <td>South Park: Bigger, Longer &amp; Uncut</td>\n",
       "      <td>5.0</td>\n",
       "      <td>South Park: Bigger, Longer, &amp; Uncut: Bill Gate...</td>\n",
       "      <td>4.0</td>\n",
       "      <td>11300</td>\n",
       "      <td>Movies</td>\n",
       "    </tr>\n",
       "    <tr>\n",
       "      <th>9866</th>\n",
       "      <td>1154</td>\n",
       "      <td>F</td>\n",
       "      <td>PayPal</td>\n",
       "      <td>4.0</td>\n",
       "      <td>Beamed me $10 over and over again</td>\n",
       "      <td>5.0</td>\n",
       "      <td>22500</td>\n",
       "      <td>Personal Finance</td>\n",
       "    </tr>\n",
       "    <tr>\n",
       "      <th>9868</th>\n",
       "      <td>1154</td>\n",
       "      <td>F</td>\n",
       "      <td>MyPoints.com</td>\n",
       "      <td>4.0</td>\n",
       "      <td>50,000 points (about $500) and counting, (3/14...</td>\n",
       "      <td>4.0</td>\n",
       "      <td>120299</td>\n",
       "      <td>Online Stores &amp; Services</td>\n",
       "    </tr>\n",
       "  </tbody>\n",
       "</table>\n",
       "<p>1080 rows × 8 columns</p>\n",
       "</div>"
      ],
      "text/plain": [
       "      userId gender                                item  rating  \\\n",
       "65     10729      F                             NetZero     4.0   \n",
       "67     10729      M                               Shrek     5.0   \n",
       "69     10729      M                        MyPoints.com     4.0   \n",
       "70     10729      M                     Erin Brockovich     5.0   \n",
       "71     10729      M      How the Grinch Stole Christmas     5.0   \n",
       "...      ...    ...                                 ...     ...   \n",
       "9815   12167      M                             NetZero     5.0   \n",
       "9817   12167      F                     Erin Brockovich     4.0   \n",
       "9865    1154      M  South Park: Bigger, Longer & Uncut     5.0   \n",
       "9866    1154      F                              PayPal     4.0   \n",
       "9868    1154      F                        MyPoints.com     4.0   \n",
       "\n",
       "                                                 review  helpfulness  \\\n",
       "65                                         Good service          4.0   \n",
       "67                          Shrek is shrieking good fun          5.0   \n",
       "69                                          It's great!          5.0   \n",
       "70                                           Great Film          6.0   \n",
       "71                       Put me in the Christmas Spirit          5.0   \n",
       "...                                                 ...          ...   \n",
       "9815                                       A fair price          5.0   \n",
       "9817                                        A new twist          4.0   \n",
       "9865  South Park: Bigger, Longer, & Uncut: Bill Gate...          4.0   \n",
       "9866                  Beamed me $10 over and over again          5.0   \n",
       "9868  50,000 points (about $500) and counting, (3/14...          4.0   \n",
       "\n",
       "      timestamp                  category  \n",
       "65        41201  Online Stores & Services  \n",
       "67        82101                    Movies  \n",
       "69        92500  Online Stores & Services  \n",
       "70       102500                    Movies  \n",
       "71       112200                    Movies  \n",
       "...         ...                       ...  \n",
       "9815      71000  Online Stores & Services  \n",
       "9817     100700                    Movies  \n",
       "9865      11300                    Movies  \n",
       "9866      22500          Personal Finance  \n",
       "9868     120299  Online Stores & Services  \n",
       "\n",
       "[1080 rows x 8 columns]"
      ]
     },
     "execution_count": 24,
     "metadata": {},
     "output_type": "execute_result"
    }
   ],
   "source": [
    "# Fitlering items into new df\n",
    "itemClean = userClean.drop(userClean.index[userClean['item'].isin(lowRateItem)])\n",
    "itemClean"
   ]
  },
  {
   "cell_type": "code",
   "execution_count": 25,
   "id": "7354da44",
   "metadata": {},
   "outputs": [],
   "source": [
    "#Exporting the modified data\n",
    "itemClean.to_csv('Cleaned_Data.csv', index=False)"
   ]
  }
 ],
 "metadata": {
  "kernelspec": {
   "display_name": "Python 3 (ipykernel)",
   "language": "python",
   "name": "python3"
  },
  "language_info": {
   "codemirror_mode": {
    "name": "ipython",
    "version": 3
   },
   "file_extension": ".py",
   "mimetype": "text/x-python",
   "name": "python",
   "nbconvert_exporter": "python",
   "pygments_lexer": "ipython3",
   "version": "3.9.1"
  }
 },
 "nbformat": 4,
 "nbformat_minor": 5
}
