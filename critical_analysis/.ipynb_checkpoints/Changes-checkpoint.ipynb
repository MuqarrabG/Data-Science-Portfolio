{
 "cells": [
  {
   "cell_type": "markdown",
   "metadata": {},
   "source": [
    "# Wine Quality Dataset\n",
    "## Aim\n",
    "This dataset was downloaded from the UCI machine learning repository to predict wine quality based on some physical properties of wine.\n",
    "\n",
    "## Data description\n",
    "Each sample has the following 11 input variables. Below is the list of the name of each feature:\n",
    "1. fixed acidity\n",
    "2. volatile acidity\n",
    "3. citric acid\n",
    "4. residual sugar\n",
    "5. chlorides\n",
    "6. free sulfur dioxide\n",
    "7. total sulfur dioxide\n",
    "8. density\n",
    "9. pH\n",
    "10. sulphates\n",
    "11. alcohol\n",
    "\n",
    "The target of the learning task is to predict the wine quality, which is also called the output variable:\n",
    "\n",
    "12. quality\n",
    "\n",
    "At this moment, we can assert that this is a supervised learning problem, but we still cannot determine whhehter this is a classification or regression problem unless we scrutinize the type of target variable. Thus, our first step is to preprocess the dataset to check the type of target variable. \n"
   ]
  },
  {
   "cell_type": "markdown",
   "metadata": {},
   "source": [
    "## Library\n",
    "import useful libraries to analyse the dataset"
   ]
  },
  {
   "cell_type": "code",
   "execution_count": 2,
   "metadata": {},
   "outputs": [],
   "source": [
    "import numpy as np\n",
    "import pandas as pd\n",
    "import seaborn as sns\n",
    "import os\n",
    "from matplotlib import pyplot as plt\n",
    "import warnings\n",
    "warnings.filterwarnings(\"ignore\")\n",
    "plt.style.use('seaborn')\n"
   ]
  },
  {
   "cell_type": "markdown",
   "metadata": {},
   "source": [
    "## 1. Data loading"
   ]
  },
  {
   "cell_type": "code",
   "execution_count": 54,
   "metadata": {},
   "outputs": [
    {
     "name": "stdout",
     "output_type": "stream",
     "text": [
      "data shape is :  (1143, 13)\n"
     ]
    },
    {
     "data": {
      "text/html": [
       "<div>\n",
       "<style scoped>\n",
       "    .dataframe tbody tr th:only-of-type {\n",
       "        vertical-align: middle;\n",
       "    }\n",
       "\n",
       "    .dataframe tbody tr th {\n",
       "        vertical-align: top;\n",
       "    }\n",
       "\n",
       "    .dataframe thead th {\n",
       "        text-align: right;\n",
       "    }\n",
       "</style>\n",
       "<table border=\"1\" class=\"dataframe\">\n",
       "  <thead>\n",
       "    <tr style=\"text-align: right;\">\n",
       "      <th></th>\n",
       "      <th>fixed acidity</th>\n",
       "      <th>volatile acidity</th>\n",
       "      <th>citric acid</th>\n",
       "      <th>residual sugar</th>\n",
       "      <th>chlorides</th>\n",
       "      <th>free sulfur dioxide</th>\n",
       "      <th>total sulfur dioxide</th>\n",
       "      <th>density</th>\n",
       "      <th>pH</th>\n",
       "      <th>sulphates</th>\n",
       "      <th>alcohol</th>\n",
       "      <th>quality</th>\n",
       "      <th>Id</th>\n",
       "    </tr>\n",
       "  </thead>\n",
       "  <tbody>\n",
       "    <tr>\n",
       "      <th>0</th>\n",
       "      <td>7.4</td>\n",
       "      <td>0.70</td>\n",
       "      <td>0.00</td>\n",
       "      <td>1.9</td>\n",
       "      <td>0.076</td>\n",
       "      <td>11.0</td>\n",
       "      <td>34.0</td>\n",
       "      <td>0.9978</td>\n",
       "      <td>3.51</td>\n",
       "      <td>0.56</td>\n",
       "      <td>9.4</td>\n",
       "      <td>5</td>\n",
       "      <td>0</td>\n",
       "    </tr>\n",
       "    <tr>\n",
       "      <th>1</th>\n",
       "      <td>7.8</td>\n",
       "      <td>0.88</td>\n",
       "      <td>0.00</td>\n",
       "      <td>2.6</td>\n",
       "      <td>0.098</td>\n",
       "      <td>25.0</td>\n",
       "      <td>67.0</td>\n",
       "      <td>0.9968</td>\n",
       "      <td>3.20</td>\n",
       "      <td>0.68</td>\n",
       "      <td>9.8</td>\n",
       "      <td>5</td>\n",
       "      <td>1</td>\n",
       "    </tr>\n",
       "    <tr>\n",
       "      <th>2</th>\n",
       "      <td>7.8</td>\n",
       "      <td>0.76</td>\n",
       "      <td>0.04</td>\n",
       "      <td>2.3</td>\n",
       "      <td>3.092</td>\n",
       "      <td>15.0</td>\n",
       "      <td>54.0</td>\n",
       "      <td>0.9970</td>\n",
       "      <td>3.26</td>\n",
       "      <td>0.65</td>\n",
       "      <td>9.8</td>\n",
       "      <td>5</td>\n",
       "      <td>2</td>\n",
       "    </tr>\n",
       "    <tr>\n",
       "      <th>3</th>\n",
       "      <td>11.2</td>\n",
       "      <td>0.28</td>\n",
       "      <td>0.56</td>\n",
       "      <td>1.9</td>\n",
       "      <td>0.075</td>\n",
       "      <td>17.0</td>\n",
       "      <td>60.0</td>\n",
       "      <td>0.9980</td>\n",
       "      <td>3.16</td>\n",
       "      <td>0.58</td>\n",
       "      <td>9.8</td>\n",
       "      <td>6</td>\n",
       "      <td>3</td>\n",
       "    </tr>\n",
       "    <tr>\n",
       "      <th>4</th>\n",
       "      <td>7.4</td>\n",
       "      <td>0.70</td>\n",
       "      <td>0.00</td>\n",
       "      <td>1.9</td>\n",
       "      <td>0.076</td>\n",
       "      <td>11.0</td>\n",
       "      <td>34.0</td>\n",
       "      <td>0.9978</td>\n",
       "      <td>3.51</td>\n",
       "      <td>0.56</td>\n",
       "      <td>9.4</td>\n",
       "      <td>5</td>\n",
       "      <td>4</td>\n",
       "    </tr>\n",
       "  </tbody>\n",
       "</table>\n",
       "</div>"
      ],
      "text/plain": [
       "   fixed acidity  volatile acidity  citric acid  residual sugar  chlorides  \\\n",
       "0            7.4              0.70         0.00             1.9      0.076   \n",
       "1            7.8              0.88         0.00             2.6      0.098   \n",
       "2            7.8              0.76         0.04             2.3      3.092   \n",
       "3           11.2              0.28         0.56             1.9      0.075   \n",
       "4            7.4              0.70         0.00             1.9      0.076   \n",
       "\n",
       "   free sulfur dioxide  total sulfur dioxide  density    pH  sulphates  \\\n",
       "0                 11.0                  34.0   0.9978  3.51       0.56   \n",
       "1                 25.0                  67.0   0.9968  3.20       0.68   \n",
       "2                 15.0                  54.0   0.9970  3.26       0.65   \n",
       "3                 17.0                  60.0   0.9980  3.16       0.58   \n",
       "4                 11.0                  34.0   0.9978  3.51       0.56   \n",
       "\n",
       "   alcohol  quality  Id  \n",
       "0      9.4        5   0  \n",
       "1      9.8        5   1  \n",
       "2      9.8        5   2  \n",
       "3      9.8        6   3  \n",
       "4      9.4        5   4  "
      ]
     },
     "execution_count": 54,
     "metadata": {},
     "output_type": "execute_result"
    }
   ],
   "source": [
    "data = pd.read_csv(\"./data/WineQT.csv\")\n",
    "print(\"data shape is : \", data.shape)\n",
    "data.head()"
   ]
  },
  {
   "cell_type": "code",
   "execution_count": 55,
   "metadata": {},
   "outputs": [
    {
     "name": "stdout",
     "output_type": "stream",
     "text": [
      "<class 'pandas.core.frame.DataFrame'>\n",
      "RangeIndex: 1143 entries, 0 to 1142\n",
      "Data columns (total 13 columns):\n",
      " #   Column                Non-Null Count  Dtype  \n",
      "---  ------                --------------  -----  \n",
      " 0   fixed acidity         1143 non-null   float64\n",
      " 1   volatile acidity      1143 non-null   float64\n",
      " 2   citric acid           1143 non-null   float64\n",
      " 3   residual sugar        1143 non-null   float64\n",
      " 4   chlorides             1143 non-null   float64\n",
      " 5   free sulfur dioxide   1143 non-null   float64\n",
      " 6   total sulfur dioxide  1143 non-null   float64\n",
      " 7   density               1143 non-null   float64\n",
      " 8   pH                    1143 non-null   float64\n",
      " 9   sulphates             1143 non-null   float64\n",
      " 10  alcohol               1143 non-null   float64\n",
      " 11  quality               1143 non-null   int64  \n",
      " 12  Id                    1143 non-null   int64  \n",
      "dtypes: float64(11), int64(2)\n",
      "memory usage: 116.2 KB\n"
     ]
    }
   ],
   "source": [
    "data.info()"
   ]
  },
  {
   "cell_type": "code",
   "execution_count": 56,
   "metadata": {},
   "outputs": [
    {
     "data": {
      "text/plain": [
       "fixed acidity           0\n",
       "volatile acidity        0\n",
       "citric acid             0\n",
       "residual sugar          0\n",
       "chlorides               0\n",
       "free sulfur dioxide     0\n",
       "total sulfur dioxide    0\n",
       "density                 0\n",
       "pH                      0\n",
       "sulphates               0\n",
       "alcohol                 0\n",
       "quality                 0\n",
       "Id                      0\n",
       "dtype: int64"
      ]
     },
     "execution_count": 56,
     "metadata": {},
     "output_type": "execute_result"
    }
   ],
   "source": [
    "data.isna().sum()"
   ]
  },
  {
   "cell_type": "markdown",
   "metadata": {},
   "source": [
    "By checking the dataframe, we can find that\n",
    "* There are 1142 samples, and each sample has 12 features. This data size is enough for training most models we have learned in this unit. \n",
    "*The dataset has been well pre-processed. All data types are numerical based. We do not need to use any encoder to transform the feature data. \n",
    "* There is no NA type of data implying that no value is missing from any sample. "
   ]
  },
  {
   "cell_type": "code",
   "execution_count": 70,
   "metadata": {},
   "outputs": [
    {
     "name": "stdout",
     "output_type": "stream",
     "text": [
      "Max value: 15.90 & Min value: 4.60 in fixed acidity\n",
      "Max value: 2.32 & Min value: 0.12 in volatile acidity\n",
      "Max value: 1.00 & Min value: 0.00 in citric acid\n",
      "Max value: 15.50 & Min value: 0.90 in residual sugar\n",
      "Max value: 3.09 & Min value: 0.01 in chlorides\n",
      "Max value: 68.00 & Min value: 1.00 in free sulfur dioxide\n",
      "Max value: 289.00 & Min value: 6.00 in total sulfur dioxide\n",
      "Max value: 2.00 & Min value: 0.99 in density\n",
      "Max value: 4.01 & Min value: 2.74 in pH\n",
      "Max value: 2.00 & Min value: 0.33 in sulphates\n",
      "Max value: 14.90 & Min value: 8.40 in alcohol\n",
      "Max value: 8.00 & Min value: 3.00 in quality\n",
      "Max value: 1597.00 & Min value: 0.00 in Id\n"
     ]
    }
   ],
   "source": [
    "for columnName in data:\n",
    "    print('Max value: %.2f & Min value: %.2f in %s' % (data[columnName].max(), data[columnName].min(), columnName))\n"
   ]
  },
  {
   "cell_type": "code",
   "execution_count": 44,
   "metadata": {},
   "outputs": [
    {
     "data": {
      "text/html": [
       "<div>\n",
       "<style scoped>\n",
       "    .dataframe tbody tr th:only-of-type {\n",
       "        vertical-align: middle;\n",
       "    }\n",
       "\n",
       "    .dataframe tbody tr th {\n",
       "        vertical-align: top;\n",
       "    }\n",
       "\n",
       "    .dataframe thead th {\n",
       "        text-align: right;\n",
       "    }\n",
       "</style>\n",
       "<table border=\"1\" class=\"dataframe\">\n",
       "  <thead>\n",
       "    <tr style=\"text-align: right;\">\n",
       "      <th></th>\n",
       "      <th>fixed acidity</th>\n",
       "      <th>volatile acidity</th>\n",
       "      <th>citric acid</th>\n",
       "      <th>residual sugar</th>\n",
       "      <th>chlorides</th>\n",
       "      <th>free sulfur dioxide</th>\n",
       "      <th>total sulfur dioxide</th>\n",
       "      <th>density</th>\n",
       "      <th>pH</th>\n",
       "      <th>sulphates</th>\n",
       "      <th>alcohol</th>\n",
       "      <th>quality</th>\n",
       "      <th>Id</th>\n",
       "    </tr>\n",
       "  </thead>\n",
       "  <tbody>\n",
       "    <tr>\n",
       "      <th>count</th>\n",
       "      <td>1143.000000</td>\n",
       "      <td>1143.000000</td>\n",
       "      <td>1143.000000</td>\n",
       "      <td>1143.000000</td>\n",
       "      <td>1143.000000</td>\n",
       "      <td>1143.000000</td>\n",
       "      <td>1143.000000</td>\n",
       "      <td>1143.000000</td>\n",
       "      <td>1143.000000</td>\n",
       "      <td>1143.000000</td>\n",
       "      <td>1143.000000</td>\n",
       "      <td>1143.000000</td>\n",
       "      <td>1143.000000</td>\n",
       "    </tr>\n",
       "    <tr>\n",
       "      <th>mean</th>\n",
       "      <td>8.311111</td>\n",
       "      <td>0.533963</td>\n",
       "      <td>0.268364</td>\n",
       "      <td>2.532152</td>\n",
       "      <td>0.091307</td>\n",
       "      <td>15.615486</td>\n",
       "      <td>45.914698</td>\n",
       "      <td>0.997605</td>\n",
       "      <td>3.311015</td>\n",
       "      <td>0.657708</td>\n",
       "      <td>10.442111</td>\n",
       "      <td>5.657043</td>\n",
       "      <td>804.969379</td>\n",
       "    </tr>\n",
       "    <tr>\n",
       "      <th>std</th>\n",
       "      <td>1.747595</td>\n",
       "      <td>0.189788</td>\n",
       "      <td>0.196686</td>\n",
       "      <td>1.355917</td>\n",
       "      <td>0.116563</td>\n",
       "      <td>10.250486</td>\n",
       "      <td>32.782130</td>\n",
       "      <td>0.029635</td>\n",
       "      <td>0.156664</td>\n",
       "      <td>0.170399</td>\n",
       "      <td>1.082196</td>\n",
       "      <td>0.805824</td>\n",
       "      <td>463.997116</td>\n",
       "    </tr>\n",
       "    <tr>\n",
       "      <th>min</th>\n",
       "      <td>4.600000</td>\n",
       "      <td>0.120000</td>\n",
       "      <td>0.000000</td>\n",
       "      <td>0.900000</td>\n",
       "      <td>0.012000</td>\n",
       "      <td>1.000000</td>\n",
       "      <td>6.000000</td>\n",
       "      <td>0.990070</td>\n",
       "      <td>2.740000</td>\n",
       "      <td>0.330000</td>\n",
       "      <td>8.400000</td>\n",
       "      <td>3.000000</td>\n",
       "      <td>0.000000</td>\n",
       "    </tr>\n",
       "    <tr>\n",
       "      <th>25%</th>\n",
       "      <td>7.100000</td>\n",
       "      <td>0.397500</td>\n",
       "      <td>0.090000</td>\n",
       "      <td>1.900000</td>\n",
       "      <td>0.070000</td>\n",
       "      <td>7.000000</td>\n",
       "      <td>21.000000</td>\n",
       "      <td>0.995570</td>\n",
       "      <td>3.205000</td>\n",
       "      <td>0.550000</td>\n",
       "      <td>9.500000</td>\n",
       "      <td>5.000000</td>\n",
       "      <td>411.000000</td>\n",
       "    </tr>\n",
       "    <tr>\n",
       "      <th>50%</th>\n",
       "      <td>7.900000</td>\n",
       "      <td>0.520000</td>\n",
       "      <td>0.250000</td>\n",
       "      <td>2.200000</td>\n",
       "      <td>0.079000</td>\n",
       "      <td>13.000000</td>\n",
       "      <td>37.000000</td>\n",
       "      <td>0.996700</td>\n",
       "      <td>3.310000</td>\n",
       "      <td>0.620000</td>\n",
       "      <td>10.200000</td>\n",
       "      <td>6.000000</td>\n",
       "      <td>794.000000</td>\n",
       "    </tr>\n",
       "    <tr>\n",
       "      <th>75%</th>\n",
       "      <td>9.100000</td>\n",
       "      <td>0.640000</td>\n",
       "      <td>0.420000</td>\n",
       "      <td>2.600000</td>\n",
       "      <td>0.090000</td>\n",
       "      <td>21.000000</td>\n",
       "      <td>61.000000</td>\n",
       "      <td>0.997855</td>\n",
       "      <td>3.400000</td>\n",
       "      <td>0.730000</td>\n",
       "      <td>11.100000</td>\n",
       "      <td>6.000000</td>\n",
       "      <td>1209.500000</td>\n",
       "    </tr>\n",
       "    <tr>\n",
       "      <th>max</th>\n",
       "      <td>15.900000</td>\n",
       "      <td>2.320000</td>\n",
       "      <td>1.000000</td>\n",
       "      <td>15.500000</td>\n",
       "      <td>3.092000</td>\n",
       "      <td>68.000000</td>\n",
       "      <td>289.000000</td>\n",
       "      <td>1.996510</td>\n",
       "      <td>4.010000</td>\n",
       "      <td>2.000000</td>\n",
       "      <td>14.900000</td>\n",
       "      <td>8.000000</td>\n",
       "      <td>1597.000000</td>\n",
       "    </tr>\n",
       "  </tbody>\n",
       "</table>\n",
       "</div>"
      ],
      "text/plain": [
       "       fixed acidity  volatile acidity  citric acid  residual sugar  \\\n",
       "count    1143.000000       1143.000000  1143.000000     1143.000000   \n",
       "mean        8.311111          0.533963     0.268364        2.532152   \n",
       "std         1.747595          0.189788     0.196686        1.355917   \n",
       "min         4.600000          0.120000     0.000000        0.900000   \n",
       "25%         7.100000          0.397500     0.090000        1.900000   \n",
       "50%         7.900000          0.520000     0.250000        2.200000   \n",
       "75%         9.100000          0.640000     0.420000        2.600000   \n",
       "max        15.900000          2.320000     1.000000       15.500000   \n",
       "\n",
       "         chlorides  free sulfur dioxide  total sulfur dioxide      density  \\\n",
       "count  1143.000000          1143.000000           1143.000000  1143.000000   \n",
       "mean      0.091307            15.615486             45.914698     0.997605   \n",
       "std       0.116563            10.250486             32.782130     0.029635   \n",
       "min       0.012000             1.000000              6.000000     0.990070   \n",
       "25%       0.070000             7.000000             21.000000     0.995570   \n",
       "50%       0.079000            13.000000             37.000000     0.996700   \n",
       "75%       0.090000            21.000000             61.000000     0.997855   \n",
       "max       3.092000            68.000000            289.000000     1.996510   \n",
       "\n",
       "                pH    sulphates      alcohol      quality           Id  \n",
       "count  1143.000000  1143.000000  1143.000000  1143.000000  1143.000000  \n",
       "mean      3.311015     0.657708    10.442111     5.657043   804.969379  \n",
       "std       0.156664     0.170399     1.082196     0.805824   463.997116  \n",
       "min       2.740000     0.330000     8.400000     3.000000     0.000000  \n",
       "25%       3.205000     0.550000     9.500000     5.000000   411.000000  \n",
       "50%       3.310000     0.620000    10.200000     6.000000   794.000000  \n",
       "75%       3.400000     0.730000    11.100000     6.000000  1209.500000  \n",
       "max       4.010000     2.000000    14.900000     8.000000  1597.000000  "
      ]
     },
     "execution_count": 44,
     "metadata": {},
     "output_type": "execute_result"
    }
   ],
   "source": [
    "data.describe()"
   ]
  },
  {
   "cell_type": "code",
   "execution_count": 45,
   "metadata": {},
   "outputs": [
    {
     "name": "stdout",
     "output_type": "stream",
     "text": [
      "The Value Quality  [5 6 7 4 8 3]\n"
     ]
    }
   ],
   "source": [
    "# Drop columns ID , because we don't need it.\n",
    "\n",
    "data.drop(columns=\"Id\",inplace=True)\n",
    "\n",
    "#the unique quality bb\n",
    "print(\"The Value Quality \",data[\"quality\"].unique())"
   ]
  },
  {
   "cell_type": "code",
   "execution_count": 46,
   "metadata": {},
   "outputs": [
    {
     "data": {
      "text/html": [
       "<div>\n",
       "<style scoped>\n",
       "    .dataframe tbody tr th:only-of-type {\n",
       "        vertical-align: middle;\n",
       "    }\n",
       "\n",
       "    .dataframe tbody tr th {\n",
       "        vertical-align: top;\n",
       "    }\n",
       "\n",
       "    .dataframe thead th {\n",
       "        text-align: right;\n",
       "    }\n",
       "</style>\n",
       "<table border=\"1\" class=\"dataframe\">\n",
       "  <thead>\n",
       "    <tr style=\"text-align: right;\">\n",
       "      <th></th>\n",
       "      <th>fixed acidity</th>\n",
       "      <th>volatile acidity</th>\n",
       "      <th>citric acid</th>\n",
       "      <th>residual sugar</th>\n",
       "      <th>chlorides</th>\n",
       "      <th>free sulfur dioxide</th>\n",
       "      <th>total sulfur dioxide</th>\n",
       "      <th>density</th>\n",
       "      <th>pH</th>\n",
       "      <th>sulphates</th>\n",
       "      <th>alcohol</th>\n",
       "      <th>quality</th>\n",
       "    </tr>\n",
       "  </thead>\n",
       "  <tbody>\n",
       "    <tr>\n",
       "      <th>fixed acidity</th>\n",
       "      <td>1.000000</td>\n",
       "      <td>-0.251394</td>\n",
       "      <td>0.673157</td>\n",
       "      <td>0.171831</td>\n",
       "      <td>0.019868</td>\n",
       "      <td>-0.164831</td>\n",
       "      <td>-0.110628</td>\n",
       "      <td>0.018720</td>\n",
       "      <td>-0.685163</td>\n",
       "      <td>0.174592</td>\n",
       "      <td>-0.075055</td>\n",
       "      <td>0.121970</td>\n",
       "    </tr>\n",
       "    <tr>\n",
       "      <th>volatile acidity</th>\n",
       "      <td>-0.251394</td>\n",
       "      <td>1.000000</td>\n",
       "      <td>-0.511436</td>\n",
       "      <td>-0.008154</td>\n",
       "      <td>0.044635</td>\n",
       "      <td>0.013065</td>\n",
       "      <td>0.069964</td>\n",
       "      <td>0.013537</td>\n",
       "      <td>0.212496</td>\n",
       "      <td>-0.255705</td>\n",
       "      <td>-0.182879</td>\n",
       "      <td>-0.373979</td>\n",
       "    </tr>\n",
       "    <tr>\n",
       "      <th>citric acid</th>\n",
       "      <td>0.673157</td>\n",
       "      <td>-0.511436</td>\n",
       "      <td>1.000000</td>\n",
       "      <td>0.175815</td>\n",
       "      <td>0.062740</td>\n",
       "      <td>-0.057589</td>\n",
       "      <td>0.036871</td>\n",
       "      <td>-0.003922</td>\n",
       "      <td>-0.546339</td>\n",
       "      <td>0.331232</td>\n",
       "      <td>0.106250</td>\n",
       "      <td>0.240821</td>\n",
       "    </tr>\n",
       "    <tr>\n",
       "      <th>residual sugar</th>\n",
       "      <td>0.171831</td>\n",
       "      <td>-0.008154</td>\n",
       "      <td>0.175815</td>\n",
       "      <td>1.000000</td>\n",
       "      <td>0.022305</td>\n",
       "      <td>0.165339</td>\n",
       "      <td>0.190790</td>\n",
       "      <td>0.010918</td>\n",
       "      <td>-0.116959</td>\n",
       "      <td>0.017475</td>\n",
       "      <td>0.058421</td>\n",
       "      <td>0.022002</td>\n",
       "    </tr>\n",
       "    <tr>\n",
       "      <th>chlorides</th>\n",
       "      <td>0.019868</td>\n",
       "      <td>0.044635</td>\n",
       "      <td>0.062740</td>\n",
       "      <td>0.022305</td>\n",
       "      <td>1.000000</td>\n",
       "      <td>0.024461</td>\n",
       "      <td>0.022378</td>\n",
       "      <td>-0.000703</td>\n",
       "      <td>-0.109521</td>\n",
       "      <td>0.159097</td>\n",
       "      <td>-0.098860</td>\n",
       "      <td>-0.062299</td>\n",
       "    </tr>\n",
       "    <tr>\n",
       "      <th>free sulfur dioxide</th>\n",
       "      <td>-0.164831</td>\n",
       "      <td>0.013065</td>\n",
       "      <td>-0.057589</td>\n",
       "      <td>0.165339</td>\n",
       "      <td>0.024461</td>\n",
       "      <td>1.000000</td>\n",
       "      <td>0.661093</td>\n",
       "      <td>0.032182</td>\n",
       "      <td>0.072804</td>\n",
       "      <td>0.034445</td>\n",
       "      <td>-0.047095</td>\n",
       "      <td>-0.063260</td>\n",
       "    </tr>\n",
       "    <tr>\n",
       "      <th>total sulfur dioxide</th>\n",
       "      <td>-0.110628</td>\n",
       "      <td>0.069964</td>\n",
       "      <td>0.036871</td>\n",
       "      <td>0.190790</td>\n",
       "      <td>0.022378</td>\n",
       "      <td>0.661093</td>\n",
       "      <td>1.000000</td>\n",
       "      <td>-0.003875</td>\n",
       "      <td>-0.059126</td>\n",
       "      <td>0.026894</td>\n",
       "      <td>-0.188165</td>\n",
       "      <td>-0.183339</td>\n",
       "    </tr>\n",
       "    <tr>\n",
       "      <th>density</th>\n",
       "      <td>0.018720</td>\n",
       "      <td>0.013537</td>\n",
       "      <td>-0.003922</td>\n",
       "      <td>0.010918</td>\n",
       "      <td>-0.000703</td>\n",
       "      <td>0.032182</td>\n",
       "      <td>-0.003875</td>\n",
       "      <td>1.000000</td>\n",
       "      <td>-0.002361</td>\n",
       "      <td>0.037441</td>\n",
       "      <td>-0.057861</td>\n",
       "      <td>0.001194</td>\n",
       "    </tr>\n",
       "    <tr>\n",
       "      <th>pH</th>\n",
       "      <td>-0.685163</td>\n",
       "      <td>0.212496</td>\n",
       "      <td>-0.546339</td>\n",
       "      <td>-0.116959</td>\n",
       "      <td>-0.109521</td>\n",
       "      <td>0.072804</td>\n",
       "      <td>-0.059126</td>\n",
       "      <td>-0.002361</td>\n",
       "      <td>1.000000</td>\n",
       "      <td>-0.185499</td>\n",
       "      <td>0.225322</td>\n",
       "      <td>-0.052453</td>\n",
       "    </tr>\n",
       "    <tr>\n",
       "      <th>sulphates</th>\n",
       "      <td>0.174592</td>\n",
       "      <td>-0.255705</td>\n",
       "      <td>0.331232</td>\n",
       "      <td>0.017475</td>\n",
       "      <td>0.159097</td>\n",
       "      <td>0.034445</td>\n",
       "      <td>0.026894</td>\n",
       "      <td>0.037441</td>\n",
       "      <td>-0.185499</td>\n",
       "      <td>1.000000</td>\n",
       "      <td>0.094421</td>\n",
       "      <td>0.257710</td>\n",
       "    </tr>\n",
       "    <tr>\n",
       "      <th>alcohol</th>\n",
       "      <td>-0.075055</td>\n",
       "      <td>-0.182879</td>\n",
       "      <td>0.106250</td>\n",
       "      <td>0.058421</td>\n",
       "      <td>-0.098860</td>\n",
       "      <td>-0.047095</td>\n",
       "      <td>-0.188165</td>\n",
       "      <td>-0.057861</td>\n",
       "      <td>0.225322</td>\n",
       "      <td>0.094421</td>\n",
       "      <td>1.000000</td>\n",
       "      <td>0.484866</td>\n",
       "    </tr>\n",
       "    <tr>\n",
       "      <th>quality</th>\n",
       "      <td>0.121970</td>\n",
       "      <td>-0.373979</td>\n",
       "      <td>0.240821</td>\n",
       "      <td>0.022002</td>\n",
       "      <td>-0.062299</td>\n",
       "      <td>-0.063260</td>\n",
       "      <td>-0.183339</td>\n",
       "      <td>0.001194</td>\n",
       "      <td>-0.052453</td>\n",
       "      <td>0.257710</td>\n",
       "      <td>0.484866</td>\n",
       "      <td>1.000000</td>\n",
       "    </tr>\n",
       "  </tbody>\n",
       "</table>\n",
       "</div>"
      ],
      "text/plain": [
       "                      fixed acidity  volatile acidity  citric acid  \\\n",
       "fixed acidity              1.000000         -0.251394     0.673157   \n",
       "volatile acidity          -0.251394          1.000000    -0.511436   \n",
       "citric acid                0.673157         -0.511436     1.000000   \n",
       "residual sugar             0.171831         -0.008154     0.175815   \n",
       "chlorides                  0.019868          0.044635     0.062740   \n",
       "free sulfur dioxide       -0.164831          0.013065    -0.057589   \n",
       "total sulfur dioxide      -0.110628          0.069964     0.036871   \n",
       "density                    0.018720          0.013537    -0.003922   \n",
       "pH                        -0.685163          0.212496    -0.546339   \n",
       "sulphates                  0.174592         -0.255705     0.331232   \n",
       "alcohol                   -0.075055         -0.182879     0.106250   \n",
       "quality                    0.121970         -0.373979     0.240821   \n",
       "\n",
       "                      residual sugar  chlorides  free sulfur dioxide  \\\n",
       "fixed acidity               0.171831   0.019868            -0.164831   \n",
       "volatile acidity           -0.008154   0.044635             0.013065   \n",
       "citric acid                 0.175815   0.062740            -0.057589   \n",
       "residual sugar              1.000000   0.022305             0.165339   \n",
       "chlorides                   0.022305   1.000000             0.024461   \n",
       "free sulfur dioxide         0.165339   0.024461             1.000000   \n",
       "total sulfur dioxide        0.190790   0.022378             0.661093   \n",
       "density                     0.010918  -0.000703             0.032182   \n",
       "pH                         -0.116959  -0.109521             0.072804   \n",
       "sulphates                   0.017475   0.159097             0.034445   \n",
       "alcohol                     0.058421  -0.098860            -0.047095   \n",
       "quality                     0.022002  -0.062299            -0.063260   \n",
       "\n",
       "                      total sulfur dioxide   density        pH  sulphates  \\\n",
       "fixed acidity                    -0.110628  0.018720 -0.685163   0.174592   \n",
       "volatile acidity                  0.069964  0.013537  0.212496  -0.255705   \n",
       "citric acid                       0.036871 -0.003922 -0.546339   0.331232   \n",
       "residual sugar                    0.190790  0.010918 -0.116959   0.017475   \n",
       "chlorides                         0.022378 -0.000703 -0.109521   0.159097   \n",
       "free sulfur dioxide               0.661093  0.032182  0.072804   0.034445   \n",
       "total sulfur dioxide              1.000000 -0.003875 -0.059126   0.026894   \n",
       "density                          -0.003875  1.000000 -0.002361   0.037441   \n",
       "pH                               -0.059126 -0.002361  1.000000  -0.185499   \n",
       "sulphates                         0.026894  0.037441 -0.185499   1.000000   \n",
       "alcohol                          -0.188165 -0.057861  0.225322   0.094421   \n",
       "quality                          -0.183339  0.001194 -0.052453   0.257710   \n",
       "\n",
       "                       alcohol   quality  \n",
       "fixed acidity        -0.075055  0.121970  \n",
       "volatile acidity     -0.182879 -0.373979  \n",
       "citric acid           0.106250  0.240821  \n",
       "residual sugar        0.058421  0.022002  \n",
       "chlorides            -0.098860 -0.062299  \n",
       "free sulfur dioxide  -0.047095 -0.063260  \n",
       "total sulfur dioxide -0.188165 -0.183339  \n",
       "density              -0.057861  0.001194  \n",
       "pH                    0.225322 -0.052453  \n",
       "sulphates             0.094421  0.257710  \n",
       "alcohol               1.000000  0.484866  \n",
       "quality               0.484866  1.000000  "
      ]
     },
     "execution_count": 46,
     "metadata": {},
     "output_type": "execute_result"
    }
   ],
   "source": [
    "data.corr()"
   ]
  },
  {
   "cell_type": "code",
   "execution_count": 47,
   "metadata": {},
   "outputs": [
    {
     "name": "stdout",
     "output_type": "stream",
     "text": [
      "Correlation between Quality and Fixed Acidity: 0.1220\n",
      "Correlation between Quality and Volatile Acidity: -0.3740\n",
      "Correlation between Quality and Citric Acid: 0.2408\n",
      "Correlation between Quality and Residual Sugar: 0.0220\n",
      "Correlation between Quality and Chlorides: -0.0623\n",
      "Correlation between Quality and Free Sulfur Dioxide: -0.0633\n",
      "Correlation between Quality and Total Sulfur Dioxide: -0.1833\n",
      "Correlation between Quality and Density: 0.0012\n",
      "Correlation between Quality and Ph: -0.0525\n",
      "Correlation between Quality and Sulphates: 0.2577\n",
      "Correlation between Quality and Alcohol: 0.4849\n"
     ]
    },
    {
     "data": {
      "text/plain": [
       "[-0.374,\n",
       " -0.1833,\n",
       " -0.0633,\n",
       " -0.0623,\n",
       " -0.0525,\n",
       " 0.0012,\n",
       " 0.022,\n",
       " 0.122,\n",
       " 0.2408,\n",
       " 0.2577,\n",
       " 0.4849]"
      ]
     },
     "execution_count": 47,
     "metadata": {},
     "output_type": "execute_result"
    }
   ],
   "source": [
    "#data.corr()\n",
    "mylist = []\n",
    "for columnName in data:\n",
    "    correlation = data[columnName].corr(data['quality'])\n",
    "    #inp = [columnName,round(correlation, 4)]\n",
    "    if str(columnName) != 'quality':\n",
    "        mylist.append(round(correlation, 4))\n",
    "        print('Correlation between Quality and %s: %.4f' % (columnName.title(), correlation))\n",
    "    \n",
    "mylist.sort()\n",
    "#print('High correlation: %d and Lowest correlation: %d' % (max(mylist), min(mylist)))\n",
    "mylist"
   ]
  },
  {
   "cell_type": "markdown",
   "metadata": {},
   "source": [
    "## By inspecting the values of target variables, we can find that the wine quality only has six discrete values. Based on the datatype of the target variable, we can conclude that it is appropriate to run a classification model to predict wine quality based on other features.  \n",
    "\n",
    "Our next step is to check the distribution of each feature variable. "
   ]
  },
  {
   "cell_type": "code",
   "execution_count": 48,
   "metadata": {},
   "outputs": [
    {
     "data": {
      "image/png": "[encoded data removed]",
      "text/plain": [
       "<Figure size 1152x864 with 12 Axes>"
      ]
     },
     "metadata": {},
     "output_type": "display_data"
    }
   ],
   "source": [
    "data.hist(bins=10 ,figsize=(16,12), color = 'Green')\n",
    "plt.show()"
   ]
  },
  {
   "cell_type": "markdown",
   "metadata": {},
   "source": [
    "From distributions of these features, we can observe that the distribution of \"chlorides\" and \"density\" features is very concentrated. It is likely that these two features are not useful for predicting wine quality. \n",
    "\n",
    "Next, we also check the distribution of the target variable. "
   ]
  },
  {
   "cell_type": "code",
   "execution_count": 49,
   "metadata": {},
   "outputs": [
    {
     "data": {
      "text/plain": [
       "Text(0.5, 1.0, 'Price Class Distribution \\n (0: Range one || 1: Range two||2:Range three||3:Range Four)')"
      ]
     },
     "execution_count": 49,
     "metadata": {},
     "output_type": "execute_result"
    },
    {
     "data": {
      "image/png": "[encoded data removed]",
      "text/plain": [
       "<Figure size 576x396 with 1 Axes>"
      ]
     },
     "metadata": {},
     "output_type": "display_data"
    }
   ],
   "source": [
    "sns.countplot('quality',data=data,)\n",
    "plt.title('Price Class Distribution \\n (0: Range one || 1: Range two||2:Range three||3:Range Four)', \n",
    "          fontsize=12)"
   ]
  },
  {
   "cell_type": "markdown",
   "metadata": {},
   "source": [
    "We can observe that:\n",
    "\n",
    "1. The target variable 'quality' has six different values, which are 3,4,5,6,7,8;\n",
    "2. The distribution of target variable is very uneven. \n",
    "\n",
    "We believe that all features should be useful for model training. Thus, after checking the distributions of these features and the target variable, we decide to train a model with all these features to predict wine quality. "
   ]
  },
  {
   "cell_type": "markdown",
   "metadata": {},
   "source": [
    "## 2. Data Preprocessing"
   ]
  },
  {
   "cell_type": "markdown",
   "metadata": {},
   "source": [
    "### 2.1 Train Test Split"
   ]
  },
  {
   "cell_type": "markdown",
   "metadata": {},
   "source": [
    "* It is essential to split dataset as a training set and a test set because test set can be used as unseen samples to evaluate our model to avoid overfitting. \n",
    "* It is proper to allocate 80%-90% samples to the training set and the rest samples to the test set.\n",
    "* We sort all data samples by the descending order of wine quality before we split the dataset as a training set and a test set. "
   ]
  },
  {
   "cell_type": "code",
   "execution_count": 50,
   "metadata": {},
   "outputs": [
    {
     "name": "stdout",
     "output_type": "stream",
     "text": [
      "5    483\n",
      "6    462\n",
      "7    143\n",
      "4     33\n",
      "8     16\n",
      "3      6\n",
      "Name: quality, dtype: int64\n"
     ]
    }
   ],
   "source": [
    "from sklearn.model_selection import train_test_split\n",
    "data.sort_values(by=['quality'],ascending=False,inplace=True)\n",
    "print(data['quality'].value_counts())\n",
    "\n",
    "x_ex1 = data.copy().drop(columns=['quality'])\n",
    "y_ex1 = data.copy()['quality']\n",
    "x_ex1_array = x_ex1.values\n",
    "y_ex1_array = y_ex1.values\n",
    "x_train = x_ex1_array[0:int((len(y_ex1_array)+1)*0.9),:]\n",
    "x_test = x_ex1_array[int((len(y_ex1_array)+1)*0.9):,:]\n",
    "y_train = y_ex1_array[0:int((len(y_ex1_array)+1)*0.9)]\n",
    "y_test = y_ex1_array[int((len(y_ex1_array)+1)*0.9):]"
   ]
  },
  {
   "cell_type": "code",
   "execution_count": 51,
   "metadata": {},
   "outputs": [
    {
     "data": {
      "text/html": [
       "<div>\n",
       "<style scoped>\n",
       "    .dataframe tbody tr th:only-of-type {\n",
       "        vertical-align: middle;\n",
       "    }\n",
       "\n",
       "    .dataframe tbody tr th {\n",
       "        vertical-align: top;\n",
       "    }\n",
       "\n",
       "    .dataframe thead th {\n",
       "        text-align: right;\n",
       "    }\n",
       "</style>\n",
       "<table border=\"1\" class=\"dataframe\">\n",
       "  <thead>\n",
       "    <tr style=\"text-align: right;\">\n",
       "      <th></th>\n",
       "      <th>fixed acidity</th>\n",
       "      <th>volatile acidity</th>\n",
       "      <th>citric acid</th>\n",
       "      <th>residual sugar</th>\n",
       "      <th>chlorides</th>\n",
       "      <th>free sulfur dioxide</th>\n",
       "      <th>total sulfur dioxide</th>\n",
       "      <th>density</th>\n",
       "      <th>pH</th>\n",
       "      <th>sulphates</th>\n",
       "      <th>alcohol</th>\n",
       "      <th>quality</th>\n",
       "    </tr>\n",
       "  </thead>\n",
       "  <tbody>\n",
       "    <tr>\n",
       "      <th>197</th>\n",
       "      <td>10.3</td>\n",
       "      <td>0.32</td>\n",
       "      <td>0.45</td>\n",
       "      <td>6.4</td>\n",
       "      <td>0.073</td>\n",
       "      <td>5.0</td>\n",
       "      <td>13.0</td>\n",
       "      <td>0.99760</td>\n",
       "      <td>3.23</td>\n",
       "      <td>0.82</td>\n",
       "      <td>12.6</td>\n",
       "      <td>8</td>\n",
       "    </tr>\n",
       "    <tr>\n",
       "      <th>349</th>\n",
       "      <td>10.7</td>\n",
       "      <td>0.35</td>\n",
       "      <td>0.53</td>\n",
       "      <td>2.6</td>\n",
       "      <td>0.070</td>\n",
       "      <td>5.0</td>\n",
       "      <td>16.0</td>\n",
       "      <td>0.99720</td>\n",
       "      <td>3.15</td>\n",
       "      <td>0.65</td>\n",
       "      <td>11.0</td>\n",
       "      <td>8</td>\n",
       "    </tr>\n",
       "    <tr>\n",
       "      <th>1030</th>\n",
       "      <td>7.2</td>\n",
       "      <td>0.38</td>\n",
       "      <td>0.31</td>\n",
       "      <td>2.0</td>\n",
       "      <td>0.056</td>\n",
       "      <td>15.0</td>\n",
       "      <td>29.0</td>\n",
       "      <td>0.99472</td>\n",
       "      <td>3.23</td>\n",
       "      <td>0.76</td>\n",
       "      <td>11.3</td>\n",
       "      <td>8</td>\n",
       "    </tr>\n",
       "    <tr>\n",
       "      <th>190</th>\n",
       "      <td>7.9</td>\n",
       "      <td>0.35</td>\n",
       "      <td>0.46</td>\n",
       "      <td>3.6</td>\n",
       "      <td>0.078</td>\n",
       "      <td>15.0</td>\n",
       "      <td>37.0</td>\n",
       "      <td>0.99730</td>\n",
       "      <td>3.35</td>\n",
       "      <td>0.86</td>\n",
       "      <td>12.8</td>\n",
       "      <td>8</td>\n",
       "    </tr>\n",
       "    <tr>\n",
       "      <th>1104</th>\n",
       "      <td>7.4</td>\n",
       "      <td>0.36</td>\n",
       "      <td>0.30</td>\n",
       "      <td>1.8</td>\n",
       "      <td>0.074</td>\n",
       "      <td>17.0</td>\n",
       "      <td>24.0</td>\n",
       "      <td>0.99419</td>\n",
       "      <td>3.24</td>\n",
       "      <td>0.70</td>\n",
       "      <td>11.4</td>\n",
       "      <td>8</td>\n",
       "    </tr>\n",
       "  </tbody>\n",
       "</table>\n",
       "</div>"
      ],
      "text/plain": [
       "      fixed acidity  volatile acidity  citric acid  residual sugar  chlorides  \\\n",
       "197            10.3              0.32         0.45             6.4      0.073   \n",
       "349            10.7              0.35         0.53             2.6      0.070   \n",
       "1030            7.2              0.38         0.31             2.0      0.056   \n",
       "190             7.9              0.35         0.46             3.6      0.078   \n",
       "1104            7.4              0.36         0.30             1.8      0.074   \n",
       "\n",
       "      free sulfur dioxide  total sulfur dioxide  density    pH  sulphates  \\\n",
       "197                   5.0                  13.0  0.99760  3.23       0.82   \n",
       "349                   5.0                  16.0  0.99720  3.15       0.65   \n",
       "1030                 15.0                  29.0  0.99472  3.23       0.76   \n",
       "190                  15.0                  37.0  0.99730  3.35       0.86   \n",
       "1104                 17.0                  24.0  0.99419  3.24       0.70   \n",
       "\n",
       "      alcohol  quality  \n",
       "197      12.6        8  \n",
       "349      11.0        8  \n",
       "1030     11.3        8  \n",
       "190      12.8        8  \n",
       "1104     11.4        8  "
      ]
     },
     "execution_count": 51,
     "metadata": {},
     "output_type": "execute_result"
    }
   ],
   "source": [
    "data.head()"
   ]
  },
  {
   "cell_type": "markdown",
   "metadata": {},
   "source": [
    "### 2.2 Feature Scaling\n",
    "* Before training a model, a critical preprocess step is to normalise feature values because these features are measured in different units and  value ranges of these features can have giant discrepancies \n",
    "\n",
    "Our next step is to use StandardScaler to normalize these features"
   ]
  },
  {
   "cell_type": "code",
   "execution_count": 52,
   "metadata": {},
   "outputs": [],
   "source": [
    "from sklearn.preprocessing import StandardScaler\n",
    "\n",
    "obje_ss=StandardScaler()\n",
    "\n",
    "x_train_ss = obje_ss.fit_transform(x_train)\n",
    "x_test_ss = obje_ss.fit_transform(x_test)"
   ]
  },
  {
   "cell_type": "markdown",
   "metadata": {},
   "source": [
    "## 3. Neural Network"
   ]
  },
  {
   "cell_type": "markdown",
   "metadata": {},
   "source": [
    "### 3.1 Model generation\n",
    "\n",
    "* Neural network is the most advanced model we have learned in this unit. Firstly, we attempt to train a neural network model to predict the wine quality based on all features, and plot the train loss and model accuracy, respectively. \n",
    "* We setup 3 hidden layers in the neural network with 15 neurons in hidden layer 1, 10 neurons in hidden layer 2 and 5 neurons in hidden layer 3. \n",
    "* We adopt 'tanh' as the activataion function, and 'sgd' as the algorithm to train the neural network. \n"
   ]
  },
  {
   "cell_type": "code",
   "execution_count": 53,
   "metadata": {},
   "outputs": [
    {
     "data": {
      "image/png": "[encoded data removed]",
      "text/plain": [
       "<Figure size 576x396 with 1 Axes>"
      ]
     },
     "metadata": {},
     "output_type": "display_data"
    },
    {
     "data": {
      "image/png": "[encoded data removed]",
      "text/plain": [
       "<Figure size 576x396 with 1 Axes>"
      ]
     },
     "metadata": {},
     "output_type": "display_data"
    }
   ],
   "source": [
    "from sklearn.neural_network import MLPClassifier\n",
    "from sklearn.base import clone\n",
    "from sklearn.metrics import log_loss\n",
    "mlp = MLPClassifier(\n",
    "    solver='sgd',\n",
    "    activation='tanh',\n",
    "    random_state=42,\n",
    "    hidden_layer_sizes=(15,10,5),\n",
    "    learning_rate_init=0.001,\n",
    "    learning_rate='constant',\n",
    "    max_iter=1,\n",
    ")\n",
    "\n",
    "\n",
    "\n",
    "def my_logloss(true_label, predicted):\n",
    "    true_label = true_label-3\n",
    "    b = np.zeros((true_label.size,6))\n",
    "    b[:,true_label] = 1\n",
    "    N = predicted.shape[0]\n",
    "    ce = -np.sum(b * np.log(predicted)) / N\n",
    "    return ce\n",
    "\n",
    "\n",
    "\"\"\" Home-made mini-batch learning\n",
    "    -> not to be used in out-of-core setting!\n",
    "\"\"\"\n",
    "N_TRAIN_SAMPLES = x_train_ss.shape[0]\n",
    "N_EPOCHS = 500\n",
    "N_BATCH = N_TRAIN_SAMPLES\n",
    "N_CLASSES = np.array([3,4,5,6,7,8])\n",
    "\n",
    "scores_train = []\n",
    "scores_test = []\n",
    "train_loss = []\n",
    "test_loss = []\n",
    "\n",
    "# epoch\n",
    "epoch = 0\n",
    "while epoch < N_EPOCHS:\n",
    "    # shuffing\n",
    "    random_perm = np.random.permutation(x_train_ss.shape[0])\n",
    "    mini_batch_index = 0\n",
    "    while True:\n",
    "        # mini-batch\n",
    "        indices = random_perm[mini_batch_index:mini_batch_index + N_BATCH]\n",
    "        mlp.partial_fit(x_train_ss[indices], y_train[indices], classes=N_CLASSES)\n",
    "        mini_batch_index += N_BATCH\n",
    "\n",
    "        if mini_batch_index >= N_TRAIN_SAMPLES:\n",
    "            break\n",
    "\n",
    "    # train record\n",
    "    scores_train.append(mlp.score(x_train_ss, y_train))\n",
    "    y_pred = mlp.predict_proba(x_train_ss)\n",
    "    train_error = my_logloss(y_train,y_pred)\n",
    "    train_loss.append(train_error)\n",
    "\n",
    "    # test record\n",
    "    scores_test.append(mlp.score(x_test_ss, y_test))\n",
    "    y_pred = mlp.predict_proba(x_test_ss)\n",
    "    test_error = my_logloss(y_test, y_pred)\n",
    "    test_loss.append(test_error)\n",
    "\n",
    "    epoch += 1\n",
    "\n",
    "# plot\n",
    "plt.plot(scores_train,label='train accuracy')\n",
    "plt.plot(scores_test,label='test accuracy')\n",
    "plt.legend(['train accuracy', 'test accuracy'])\n",
    "plt.xlabel('epoch')\n",
    "plt.ylabel('Accuracy')\n",
    "plt.show()\n",
    "\n",
    "plt.plot(train_loss,label='train loss')\n",
    "plt.plot(test_loss,label='test loss')\n",
    "plt.legend(['train loss', 'test loss'])\n",
    "plt.xlabel('epoch')\n",
    "plt.ylabel('Loss')\n",
    "plt.show()\n"
   ]
  },
  {
   "cell_type": "markdown",
   "metadata": {},
   "source": [
    "### 3.2 Model evaluation\n",
    "* Desipte the advance of neural netwokr, the training loss and test loss are not reduced effectively. In particular, the accuracy on the test set is terrible with a very low value. Thus, we will explore to evaluate the trained model with more complicated evaluation methods. \n",
    "* We apply the test dataset to evaluate the nerual network model and corss validation will be adopted to validate the model performance"
   ]
  },
  {
   "cell_type": "code",
   "execution_count": 13,
   "metadata": {},
   "outputs": [
    {
     "name": "stdout",
     "output_type": "stream",
     "text": [
      "Results on the test set:\n",
      "              precision    recall  f1-score   support\n",
      "\n",
      "           3       0.00      0.00      0.00         6\n",
      "           4       0.00      0.00      0.00        33\n",
      "           5       0.58      0.24      0.34        75\n",
      "           6       0.00      0.00      0.00         0\n",
      "           7       0.00      0.00      0.00         0\n",
      "\n",
      "    accuracy                           0.16       114\n",
      "   macro avg       0.12      0.05      0.07       114\n",
      "weighted avg       0.38      0.16      0.22       114\n",
      "\n",
      "[[ 0  0  3  3  0  0]\n",
      " [ 0  0 10 17  6  0]\n",
      " [ 0  0 18 51  6  0]\n",
      " [ 0  0  0  0  0  0]\n",
      " [ 0  0  0  0  0  0]\n",
      " [ 0  0  0  0  0  0]]\n"
     ]
    },
    {
     "data": {
      "image/png": "[encoded data removed]",
      "text/plain": [
       "<Figure size 576x396 with 2 Axes>"
      ]
     },
     "metadata": {},
     "output_type": "display_data"
    }
   ],
   "source": [
    "from sklearn.metrics import accuracy_score\n",
    "from sklearn.metrics import classification_report\n",
    "y_pred = mlp.predict(x_test_ss)\n",
    "print('Results on the test set:')\n",
    "print(classification_report(y_test, y_pred))\n",
    "\n",
    "from sklearn.metrics import confusion_matrix, ConfusionMatrixDisplay\n",
    "cm = confusion_matrix( y_test, y_pred, labels=mlp.classes_)\n",
    "print(cm)\n",
    "disp = ConfusionMatrixDisplay(confusion_matrix=cm,display_labels=mlp.classes_)\n",
    "disp.plot()\n",
    "plt.show()"
   ]
  },
  {
   "cell_type": "markdown",
   "metadata": {},
   "source": [
    "#### we define a plot function to visualize the performance of the neural network model evaluated by the cross validation method"
   ]
  },
  {
   "cell_type": "code",
   "execution_count": 14,
   "metadata": {},
   "outputs": [],
   "source": [
    "def plot_stacked_bar_charts(x_label, y_label, plot_title, train_data, val_data):\n",
    "        '''Function to plot a grouped bar chart showing the training and validation\n",
    "          results of the ML model in each fold after applying K-fold cross-validation.\n",
    "         Parameters\n",
    "         ----------\n",
    "         x_label: str, \n",
    "            Name of the algorithm used for training e.g 'Decision Tree'\n",
    "          \n",
    "         y_label: str, \n",
    "            Name of metric being visualized e.g 'Accuracy'\n",
    "         plot_title: str, \n",
    "            This is the title of the plot e.g 'Accuracy Plot'\n",
    "         \n",
    "         train_result: list, array\n",
    "            This is the list containing either training precision, accuracy, or f1 score.\n",
    "        \n",
    "         val_result: list, array\n",
    "            This is the list containing either validation precision, accuracy, or f1 score.\n",
    "         Returns\n",
    "         -------\n",
    "         The function returns a Grouped Barchart showing the training and validation result\n",
    "         in each fold.\n",
    "        '''\n",
    "        \n",
    "        # Set size of plot\n",
    "        fig, ax =plt.subplots(figsize=(12,6))\n",
    "        labels = [\"1st Fold\", \"2nd Fold\", \"3rd Fold\", \"4th Fold\", \"5th Fold\",\"6th Fold\", \"7th Fold\", \"8th Fold\", \"9th Fold\"]\n",
    "        width = 0.35\n",
    "        X_axis = np.arange(len(labels))\n",
    "        ax.bar(labels, train_data, width,  label='Training')\n",
    "        ax.bar(labels, val_data, width, bottom=train_data,\n",
    "        label='Validation')\n",
    "        ax.set_xlabel(x_label)\n",
    "        ax.set_ylabel(y_label)\n",
    "        ax.set_title(plot_title)\n",
    "        ax.legend()\n",
    "        plt.show()"
   ]
  },
  {
   "cell_type": "code",
   "execution_count": 15,
   "metadata": {},
   "outputs": [
    {
     "data": {
      "image/png": "[encoded data removed]",
      "text/plain": [
       "<Figure size 864x432 with 1 Axes>"
      ]
     },
     "metadata": {},
     "output_type": "display_data"
    }
   ],
   "source": [
    "from sklearn.model_selection import cross_validate \n",
    "result = cross_validate(mlp, x_train_ss, y_train, return_train_score=True,cv = 9)\n",
    "\n",
    "plot_stacked_bar_charts(\"Multilayer Perceptron\", \"Accuracy\", \"Accuracy scores in 9 Folds\", result['train_score'], result['test_score'])"
   ]
  },
  {
   "cell_type": "markdown",
   "metadata": {},
   "source": [
    "#### From the model accuracy on different data fold, which is used as the validation set, we can observe that the accuracy on the validation set is still much lower than that on the training set. It is likely that overfitting occurs such that the model cannot work well on validation data folds. "
   ]
  },
  {
   "cell_type": "markdown",
   "metadata": {},
   "source": [
    "### 3.3 Test"
   ]
  },
  {
   "cell_type": "code",
   "execution_count": 16,
   "metadata": {},
   "outputs": [
    {
     "name": "stdout",
     "output_type": "stream",
     "text": [
      "Results on the test set:\n",
      "              precision    recall  f1-score   support\n",
      "\n",
      "           3       0.00      0.00      0.00         6\n",
      "           4       0.00      0.00      0.00        33\n",
      "           5       0.58      0.24      0.34        75\n",
      "           6       0.00      0.00      0.00         0\n",
      "           7       0.00      0.00      0.00         0\n",
      "\n",
      "    accuracy                           0.16       114\n",
      "   macro avg       0.12      0.05      0.07       114\n",
      "weighted avg       0.38      0.16      0.22       114\n",
      "\n"
     ]
    }
   ],
   "source": [
    "from sklearn.metrics import accuracy_score\n",
    "from sklearn.metrics import classification_report\n",
    "y_pred = mlp.predict(x_test_ss)\n",
    "print('Results on the test set:')\n",
    "print(classification_report(y_test, y_pred))\n"
   ]
  },
  {
   "cell_type": "markdown",
   "metadata": {},
   "source": [
    "#### We further evaluate the trained model on the test sample set, which yields even poorer model accuracy. In view of that, we conclude that neural network is not a wise choice for solving this problem. We attempt to train a Naive Bayes model to solve this problem next. "
   ]
  },
  {
   "cell_type": "markdown",
   "metadata": {},
   "source": [
    "## 4. Naive Bayes"
   ]
  },
  {
   "cell_type": "markdown",
   "metadata": {},
   "source": [
    "Since the performance of the neural network model is not satisfactory, we build a new model with Naive Bayes method. \n",
    "\n",
    "For Naive Bayes model, the input must be non-negative values. Thus, we transform all feature values as non-negative numbers. Here, we adopt MinMaxScaler() method. \n"
   ]
  },
  {
   "cell_type": "code",
   "execution_count": 17,
   "metadata": {},
   "outputs": [],
   "source": [
    "from sklearn.preprocessing import MinMaxScaler\n",
    "\n",
    "obje_mm=MinMaxScaler()\n",
    "\n",
    "x_train_mm = obje_mm.fit_transform(x_train)\n",
    "x_test_mm = obje_mm.fit_transform(x_test)"
   ]
  },
  {
   "cell_type": "markdown",
   "metadata": {},
   "source": [
    "### 4.1 Model generation"
   ]
  },
  {
   "cell_type": "code",
   "execution_count": 18,
   "metadata": {},
   "outputs": [
    {
     "data": {
      "text/plain": [
       "MultinomialNB(alpha=0.0)"
      ]
     },
     "execution_count": 18,
     "metadata": {},
     "output_type": "execute_result"
    }
   ],
   "source": [
    "from sklearn.naive_bayes import MultinomialNB\n",
    "nb = MultinomialNB(\n",
    "    alpha=0.0, # laplace smoothing parameter, alpha=0 means there is no smoothing\n",
    ")\n",
    "nb.fit(x_train_mm,y_train)"
   ]
  },
  {
   "cell_type": "markdown",
   "metadata": {},
   "source": [
    "### 4.2 Model Evaluation\n",
    "We further evaluate the Navie Bayes model by using the cross validation method and the testing set. "
   ]
  },
  {
   "cell_type": "code",
   "execution_count": 19,
   "metadata": {},
   "outputs": [
    {
     "data": {
      "image/png": "[encoded data removed]",
      "text/plain": [
       "<Figure size 864x432 with 1 Axes>"
      ]
     },
     "metadata": {},
     "output_type": "display_data"
    }
   ],
   "source": [
    "from sklearn.model_selection import cross_validate\n",
    "_scoring = 'accuracy'\n",
    "results = cross_validate(\n",
    "    estimator=nb,\n",
    "    X = x_train_mm,\n",
    "    y = y_train, \n",
    "    cv = 9,\n",
    "    scoring = _scoring,\n",
    ")\n",
    "plot_stacked_bar_charts(\"Naive Bayes\", \"Accuracy\", \"Accuracy scores in 9 Folds\", result['train_score'], result['test_score'])\n"
   ]
  },
  {
   "cell_type": "markdown",
   "metadata": {},
   "source": [
    "#### Unfortunately, the Naive Bayes model cannot work well on the validation set as well. Perhaps these features are not effective in predicting the target variable. Our claim can be supported by the following performance evaluation on the test set. "
   ]
  },
  {
   "cell_type": "markdown",
   "metadata": {},
   "source": [
    "### 4.3 Test "
   ]
  },
  {
   "cell_type": "code",
   "execution_count": 20,
   "metadata": {
    "scrolled": true
   },
   "outputs": [
    {
     "name": "stdout",
     "output_type": "stream",
     "text": [
      "Results on the test set:\n",
      "              precision    recall  f1-score   support\n",
      "\n",
      "           3       0.00      0.00      0.00         6\n",
      "           4       0.00      0.00      0.00        33\n",
      "           5       0.72      0.35      0.47        75\n",
      "           6       0.00      0.00      0.00         0\n",
      "\n",
      "    accuracy                           0.23       114\n",
      "   macro avg       0.18      0.09      0.12       114\n",
      "weighted avg       0.48      0.23      0.31       114\n",
      "\n"
     ]
    }
   ],
   "source": [
    "from sklearn.metrics import classification_report\n",
    "\n",
    "y_true, y_pred = y_test , nb.predict(x_test_mm)\n",
    "print('Results on the test set:')\n",
    "print(classification_report(y_true, y_pred))"
   ]
  },
  {
   "cell_type": "markdown",
   "metadata": {},
   "source": [
    "#### Unfortunately, the model performance is not satisfactory as well.  Since that we cannot get satisficatory by training either neural network or Naive Bayes model, we believe there is some problem with the dataset. These features possibly have a low correlation with the target variable such that we cannot utilize them for accurately predicting the target variable. "
   ]
  }
 ],
 "metadata": {
  "interpreter": {
   "hash": "a89ca70b77bf3904d6e71dcc50960c234158b7102660c3bbb1422648282c4bd9"
  },
  "kernelspec": {
   "display_name": "Python 3 (ipykernel)",
   "language": "python",
   "name": "python3"
  },
  "language_info": {
   "codemirror_mode": {
    "name": "ipython",
    "version": 3
   },
   "file_extension": ".py",
   "mimetype": "text/x-python",
   "name": "python",
   "nbconvert_exporter": "python",
   "pygments_lexer": "ipython3",
   "version": "3.9.12"
  }
 },
 "nbformat": 4,
 "nbformat_minor": 2
}
